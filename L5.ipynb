{
 "cells": [
  {
   "cell_type": "markdown",
   "metadata": {},
   "source": [
    "## Inteligencia Artificial\n",
    "## - Laboratorio 5 -\n",
    "Autores:\n",
    "- Mark Albrand \n",
    "- Jimena Hernández"
   ]
  },
  {
   "cell_type": "markdown",
   "metadata": {},
   "source": [
    "### Task 1 - Graph-Search"
   ]
  },
  {
   "cell_type": "code",
   "execution_count": 94,
   "metadata": {},
   "outputs": [],
   "source": [
    "import matplotlib.pylab as plt\n",
    "import numpy as np"
   ]
  },
  {
   "cell_type": "markdown",
   "metadata": {},
   "source": [
    "### Task 1.1 - Discretización de la imagen"
   ]
  },
  {
   "cell_type": "code",
   "execution_count": 241,
   "metadata": {},
   "outputs": [
    {
     "name": "stdout",
     "output_type": "stream",
     "text": [
      "Alto: 582, Ancho: 582\n",
      "Nuevo alto: 59, Nuevo ancho: 59\n"
     ]
    }
   ],
   "source": [
    "from PIL import Image\n",
    "import numpy as np\n",
    "def convertir_a_discreto(imagen_path, tamano_bloque):\n",
    "    # Cargar la imagen\n",
    "    imagen = Image.open(imagen_path)\n",
    "    imagen_np = np.array(imagen)\n",
    "    \n",
    "    # Dimensiones de la imagen\n",
    "    alto, ancho, _ = imagen_np.shape\n",
    "    \n",
    "    nuevo_alto = (alto // tamano_bloque) + 1\n",
    "    nuevo_ancho = (ancho // tamano_bloque) + 1\n",
    "\n",
    "    print(f'Alto: {alto}, Ancho: {ancho}')\n",
    "    print(f'Nuevo alto: {nuevo_alto}, Nuevo ancho: {nuevo_ancho}')\n",
    "\n",
    "    # Redimensionar la imagen\n",
    "    imagen_salida = np.zeros((nuevo_alto, nuevo_ancho, 3), dtype=np.uint8)\n",
    "    \n",
    "    for y in range(0, alto, tamano_bloque):\n",
    "        for x in range(0, ancho, tamano_bloque):\n",
    "            new_y = y // tamano_bloque\n",
    "            new_x = x // tamano_bloque\n",
    "            # Extraer el bloque\n",
    "            bloque = imagen_np[y:y+tamano_bloque, x:x+tamano_bloque]\n",
    "            \n",
    "            # Calcular el color promedio del bloque\n",
    "            color_promedio = bloque.mean(axis=(0,1)).astype(int)\n",
    "            #convertir los colores difuminados al color mas predominante\n",
    "            #verde\n",
    "            if color_promedio[1] > color_promedio[0] and color_promedio[1] > color_promedio[2]:\n",
    "                color_promedio[1] = 255\n",
    "                color_promedio[0] = 0\n",
    "                color_promedio[2] = 0 \n",
    "            #rojo\n",
    "            elif color_promedio[0] > color_promedio[1] and color_promedio[0] > color_promedio[2]:\n",
    "                color_promedio[0] = 255\n",
    "                color_promedio[1] = 0\n",
    "                color_promedio[2] = 0\n",
    "\n",
    "            #grises\n",
    "            elif color_promedio[0] == color_promedio[1] and color_promedio[0] == color_promedio[2] and color_promedio[0]< 255:\n",
    "                color_promedio[0] = 0\n",
    "                color_promedio[1] = 0\n",
    "                color_promedio[2] = 0\n",
    "            \n",
    "            # Asignar el color promedio al bloque correspondiente en la imagen de salida\n",
    "            imagen_salida[new_y, new_x] = color_promedio\n",
    "    \n",
    "    imagen_discreta = Image.fromarray(imagen_salida)\n",
    "    return imagen_discreta\n",
    "\n",
    "ruta_imagen = 'images/1.bmp' \n",
    "tamano_bloque = 10 #bloques de 14x14\n",
    "imagen_discreta = convertir_a_discreto(ruta_imagen, tamano_bloque)\n",
    "imagen_discreta.show() # Mostrar la imagen\n"
   ]
  },
  {
   "cell_type": "markdown",
   "metadata": {},
   "source": [
    "Las áreas blancas representan caminos libres\n",
    "Las áreas negras representan paredes sobre las cuales no se puede pasar\n",
    "Las áreas verdes representan la meta (goalTest positivos) (pueden ser varios)\n",
    "La área roja representa el punto de inicio (solo podrá haber uno)"
   ]
  },
  {
   "cell_type": "code",
   "execution_count": 96,
   "metadata": {},
   "outputs": [
    {
     "name": "stdout",
     "output_type": "stream",
     "text": [
      "<class 'PIL.Image.Image'>\n"
     ]
    }
   ],
   "source": [
    "print(type(imagen_discreta))"
   ]
  },
  {
   "cell_type": "code",
   "execution_count": 97,
   "metadata": {},
   "outputs": [
    {
     "name": "stdout",
     "output_type": "stream",
     "text": [
      "(59, 59, 3)\n"
     ]
    }
   ],
   "source": [
    "# Pasar la imagen a un arreglo de numpy\n",
    "imagen_np = np.array(imagen_discreta)\n",
    "print(imagen_np.shape)\n",
    "\n",
    "height, width, channels = imagen_np.shape"
   ]
  },
  {
   "cell_type": "code",
   "execution_count": 98,
   "metadata": {},
   "outputs": [
    {
     "name": "stdout",
     "output_type": "stream",
     "text": [
      "x: 4, y: 4\n",
      "x: 5, y: 4\n",
      "x: 6, y: 4\n",
      "x: 3, y: 5\n",
      "x: 4, y: 5\n",
      "x: 5, y: 5\n",
      "x: 6, y: 5\n",
      "x: 7, y: 5\n",
      "x: 3, y: 6\n",
      "x: 4, y: 6\n",
      "x: 5, y: 6\n",
      "x: 6, y: 6\n",
      "x: 7, y: 6\n",
      "x: 3, y: 7\n",
      "x: 4, y: 7\n",
      "x: 5, y: 7\n",
      "x: 6, y: 7\n",
      "x: 7, y: 7\n",
      "x: 4, y: 8\n",
      "x: 5, y: 8\n",
      "x: 6, y: 8\n"
     ]
    }
   ],
   "source": [
    "# imprimir cualquier x,y que tenga como valor [0, 255, 0]\n",
    "for y in range(0, height):\n",
    "    for x in range(0, width):\n",
    "        if np.array_equal(imagen_np[y][x], [0, 255, 0]):\n",
    "            print(f'x: {x}, y: {y}')"
   ]
  },
  {
   "cell_type": "markdown",
   "metadata": {},
   "source": [
    "### Task 1.2 - Framework de Problemas\n",
    "\n",
    "Puede entenderse como un framework con los siguientes\n",
    "elementos\n",
    "- ○ Estado inicial (s_start) CHEQUE\n",
    "- ○ Función de acción actions(s) → {a 1, a 2,...,a n} CHEQUE\n",
    "- ○ Función de costo de paso cost(s,a,s’) → R CHEQUE\n",
    "-    Estado actual, acción y estado siguiente -> Cuánto cuesta hacer el moviemiento\n",
    "- ○ Función de resultados results(s,a) → s’\n",
    "-    Se usa después de actions, dice a que estado se llega usando lo que dio actions\n",
    "- ○ Función de goalTest(s) → {True, False}\n",
    "    Se pasa de cada config nueva (estado actual), si es la meta o no\n",
    "\n",
    "● Además, algunas veces es útil agregar\n",
    "- ○ Función de costo de ruta pathCost(s 1, s 2,...,s n) → R\n",
    "■ s i = results(s i-1,a i )"
   ]
  },
  {
   "cell_type": "code",
   "execution_count": 226,
   "metadata": {},
   "outputs": [],
   "source": [
    "from typing import TypedDict\n",
    "\n",
    "class legend_dict(TypedDict):\n",
    "    \"\"\"\n",
    "    Define el tipo de dato para el diccionario de leyenda\n",
    "    Los numpy arrays son de 3 elementos, representando los colores RGB\n",
    "    \"\"\"\n",
    "    wall: np.array\n",
    "    path: np.array\n",
    "    start: np.array\n",
    "    end: np.array\n",
    "\n",
    "\n",
    "class SolveMaze:\n",
    "    maze: np.array\n",
    "    starting_point: tuple[int, int]  # (y, x)\n",
    "\n",
    "    legend: legend_dict = {\n",
    "        \"wall\": np.array([0, 0, 0]),  # black\n",
    "        \"path\": np.array([255, 255, 255]),  # white\n",
    "        \"start\": np.array([255, 0, 0]),  # red\n",
    "        \"end\": np.array([0, 255, 0])  # green\n",
    "    }\n",
    "\n",
    "    def __init__(self, maze: np.array):\n",
    "        if maze.ndim != 3:\n",
    "            raise ValueError(\"Maze debe ser un arreglo tridimensional\")\n",
    "\n",
    "        self.maze = maze\n",
    "        self.starting_point = self._findStartinPoint()\n",
    "\n",
    "    \n",
    "    def _findStartinPoint(self) -> tuple[int, int]:\n",
    "        width, height, _ = self.maze.shape\n",
    "        sp = None\n",
    "        acts = -1\n",
    "        for y in range(0, height-1):\n",
    "            for x in range(0, width-1):\n",
    "                if np.array_equal(self.maze[y, x], self.legend[\"start\"]):  # Buscar el punto de inicio, definido por el color en legend\n",
    "                    act = self.actions((y, x))\n",
    "\n",
    "                    if len(act) > acts:\n",
    "                        sp = (y, x)\n",
    "                        acts = len(act)\n",
    "        return sp\n",
    "    \n",
    "    def __str__(self) -> str:\n",
    "        return f\"SolveMaze(maze={self.maze.shape}, starting_point={self.starting_point})\"\n",
    "    \n",
    "    def actions(self, current_pos: tuple[int, int]) -> list[tuple[int, int]]:\n",
    "        \"\"\"\n",
    "        Dada una posición, regresa las posiciones a las que se puede mover\n",
    "        \"\"\"\n",
    "        y, x = current_pos\n",
    "        possible_actions = []\n",
    "        # Regresar las posiciones a las que se puede mover: Path\n",
    "        if y > 0 and np.array_equal(self.maze[y-1, x], self.legend[\"path\"]):\n",
    "            # Si no estamos en el borde superior y la celda de arriba es un camino\n",
    "            # Arriba\n",
    "            possible_actions.append((y-1, x))\n",
    "        if y < height-1 and np.array_equal(self.maze[y+1, x], self.legend[\"path\"]):\n",
    "            # Si no estamos en el borde inferior y la celda de abajo es un camino\n",
    "            # Abajo\n",
    "            possible_actions.append((y+1, x))\n",
    "        if x > 0 and np.array_equal(self.maze[y, x-1], self.legend[\"path\"]):\n",
    "            # Si no estamos en el borde izquierdo y la celda de la izquierda es un camino\n",
    "            # Izquierda\n",
    "            possible_actions.append((y, x-1))\n",
    "        if x < width-1 and np.array_equal(self.maze[y, x+1], self.legend[\"path\"]):\n",
    "            # Si no estamos en el borde derecho y la celda de la derecha es un camino\n",
    "            # Derecha\n",
    "            possible_actions.append((y, x+1))\n",
    "\n",
    "        # Regresar las posiciones a las que se puede mover: End\n",
    "        if y > 0 and np.array_equal(self.maze[y-1, x], self.legend[\"end\"]):\n",
    "            # Si no estamos en el borde superior y la celda de arriba es el punto final\n",
    "            # Arriba\n",
    "            possible_actions.append((y-1, x))\n",
    "        if y < height-1 and np.array_equal(self.maze[y+1, x], self.legend[\"end\"]):\n",
    "            # Si no estamos en el borde inferior y la celda de abajo es el punto final\n",
    "            # Abajo\n",
    "            possible_actions.append((y+1, x))\n",
    "        if x > 0 and np.array_equal(self.maze[y, x-1], self.legend[\"end\"]):\n",
    "            # Si no estamos en el borde izquierdo y la celda de la izquierda es el punto final\n",
    "            # Izquierda\n",
    "            possible_actions.append((y, x-1))\n",
    "        if x < width-1 and np.array_equal(self.maze[y, x+1], self.legend[\"end\"]):\n",
    "            # Si no estamos en el borde derecho y la celda de la derecha es el punto final\n",
    "            # Derecha\n",
    "            possible_actions.append((y, x+1))\n",
    "        \n",
    "        return possible_actions\n",
    "    \n",
    "    def cost(self, next_pos: tuple[int, int]) -> int:\n",
    "        \"\"\"\n",
    "        Dada una posición y una acción, regresa el costo de llegar a esa posición\n",
    "        \"\"\"\n",
    "        actions_next = self.actions(next_pos)\n",
    "        costo = 1\n",
    "\n",
    "        # Cantidad de acciones posibles\n",
    "        match len(actions_next):\n",
    "            case 0:\n",
    "                costo += 10\n",
    "            case 1:\n",
    "                costo += 3\n",
    "            case 2:\n",
    "                costo += 2\n",
    "            case 3:\n",
    "                costo += 1\n",
    "            case 4:\n",
    "                pass\n",
    "            case _:\n",
    "                pass\n",
    "\n",
    "        \n",
    "        # De las acciones posibles, si una es el punto final, reducir el costo\n",
    "        for action in actions_next:\n",
    "            if np.array_equal(action, legend_dict[\"end\"]):\n",
    "                costo -= 15\n",
    "                break\n",
    "\n",
    "        # distancia euclidiana\n",
    "        costo += np.sqrt((next_pos[0] - self.starting_point[0])**2 + (next_pos[1] - self.starting_point[1])**2)\n",
    "\n",
    "        return costo\n",
    "        \n",
    "\n",
    "    def goalTest(self, current_pos: tuple[int, int]) -> bool:\n",
    "        \"\"\"\n",
    "        Dada una posición, regresa si es el punto final\n",
    "        \"\"\"\n",
    "        return np.array_equal(self.maze[current_pos], self.legend[\"end\"])\n",
    "    \n",
    "    def pathCost(self, path: list[tuple[int, int]]) -> int:\n",
    "        \"\"\"\n",
    "        Dado un camino, regresa el costo total de recorrerlo\n",
    "        \"\"\"\n",
    "        costo = 0\n",
    "        for pos in path:\n",
    "            costo += self.cost(pos)\n",
    "        return costo\n"
   ]
  },
  {
   "cell_type": "code",
   "execution_count": 227,
   "metadata": {},
   "outputs": [
    {
     "name": "stdout",
     "output_type": "stream",
     "text": [
      "Start found at (49, 48)\n",
      "Actions: [(48, 48), (49, 47)]\n",
      "New SP (49, 48)\n",
      "Start found at (49, 49)\n",
      "Actions: [(48, 49)]\n",
      "Start found at (49, 50)\n",
      "Actions: [(48, 50), (49, 51)]\n",
      "Start found at (50, 48)\n",
      "Actions: [(50, 47)]\n",
      "Start found at (50, 49)\n",
      "Actions: []\n",
      "Start found at (50, 50)\n",
      "Actions: []\n",
      "Start found at (50, 51)\n",
      "Actions: [(49, 51), (50, 52)]\n",
      "Start found at (51, 48)\n",
      "Actions: [(51, 47)]\n",
      "Start found at (51, 49)\n",
      "Actions: []\n",
      "Start found at (51, 50)\n",
      "Actions: []\n",
      "Start found at (51, 51)\n",
      "Actions: [(51, 52)]\n",
      "Start found at (52, 48)\n",
      "Actions: [(53, 48), (52, 47)]\n",
      "Start found at (52, 49)\n",
      "Actions: [(53, 49)]\n",
      "Start found at (52, 50)\n",
      "Actions: [(53, 50)]\n",
      "Start found at (52, 51)\n",
      "Actions: [(53, 51), (52, 52)]\n",
      "SolveMaze(maze=(59, 59, 3), starting_point=(49, 48))\n",
      "[(48, 48), (49, 47)]\n"
     ]
    }
   ],
   "source": [
    "maze = SolveMaze(imagen_np)\n",
    "print(maze)\n",
    "print(maze.actions(maze.starting_point))"
   ]
  },
  {
   "cell_type": "code",
   "execution_count": 228,
   "metadata": {},
   "outputs": [
    {
     "name": "stdout",
     "output_type": "stream",
     "text": [
      "[(49, 48), (49, 47), (50, 47), (51, 47), (52, 47), (53, 47), (54, 47), (54, 46), (54, 45), (54, 44), (54, 43), (54, 42), (54, 41), (54, 40), (54, 39), (54, 38), (54, 37), (54, 36), (54, 35), (54, 34), (54, 33), (54, 32), (54, 31), (54, 30), (54, 29), (54, 28), (54, 27), (54, 26), (54, 25), (54, 24), (54, 23), (54, 22), (54, 21), (54, 20), (54, 19), (54, 18), (54, 17), (54, 16), (54, 15), (54, 14), (54, 13), (54, 12), (54, 11), (54, 10), (54, 9), (54, 8), (54, 7), (54, 6), (54, 5), (54, 4), (53, 4), (52, 4), (51, 4), (50, 4), (50, 3), (49, 3), (48, 3), (47, 3), (46, 3), (45, 3), (44, 3), (43, 3), (42, 3), (41, 3), (40, 3), (39, 3), (38, 3), (37, 3), (36, 3), (35, 3), (34, 3), (33, 3), (32, 3), (31, 3), (30, 3), (29, 3), (28, 3), (27, 3), (26, 3), (25, 3), (24, 3), (23, 3), (22, 3), (21, 3), (20, 3), (19, 3), (18, 3), (17, 3), (16, 3), (15, 3), (14, 3), (13, 3), (12, 3), (11, 3), (10, 3), (9, 3), (8, 3), (7, 3)]\n"
     ]
    }
   ],
   "source": [
    "from collections import deque\n",
    "\n",
    "def breadthFirstSearch(problem: SolveMaze) -> list[tuple[int, int]]:\n",
    "    \"\"\"\n",
    "    Realiza una búsqueda en amplitud para encontrar el camino más corto\n",
    "    \"\"\"\n",
    "    start = problem.starting_point\n",
    "    if problem.goalTest(start):\n",
    "        return start\n",
    "    frontier = deque([(start, [start])])\n",
    "    explored = set()\n",
    "    while frontier:\n",
    "        current_pos, path = frontier.popleft()  # Cola\n",
    "        \n",
    "        if problem.goalTest(current_pos):\n",
    "            return path\n",
    "        \n",
    "        if current_pos in explored:\n",
    "            continue\n",
    "        \n",
    "        explored.add(current_pos)\n",
    "        \n",
    "        for action in problem.actions(current_pos):\n",
    "            if action not in explored and action not in frontier:\n",
    "                frontier.append((action, path + [action]))\n",
    "    return None\n",
    "\n",
    "path_bfs = breadthFirstSearch(maze)\n",
    "print(path_bfs)"
   ]
  },
  {
   "cell_type": "code",
   "execution_count": 229,
   "metadata": {},
   "outputs": [],
   "source": [
    "def drawPath(maze: np.array, path: list[tuple[int, int]]) -> np.array:\n",
    "    \"\"\"\n",
    "    Dado un laberinto y un camino, dibuja el camino en el laberinto\n",
    "    \"\"\"\n",
    "    maze_with_path = maze.copy()\n",
    "    for pos in path:\n",
    "        y, x = pos\n",
    "        maze_with_path[y, x] = np.array([0, 0, 255])  # blue\n",
    "    return maze_with_path\n",
    "\n",
    "maze_with_path_bfs = drawPath(imagen_np, path_bfs)\n",
    "\n",
    "maze_with_path_bfs = Image.fromarray(maze_with_path_bfs)\n",
    "\n",
    "maze_with_path_bfs.show() # Mostrar la imagen"
   ]
  },
  {
   "cell_type": "code",
   "execution_count": 167,
   "metadata": {},
   "outputs": [
    {
     "name": "stdout",
     "output_type": "stream",
     "text": [
      "[(49, 48), (49, 49), (49, 50), (50, 50), (50, 51), (51, 51), (51, 50), (51, 49), (51, 48), (52, 48), (52, 49), (52, 50), (52, 51), (52, 52), (52, 53), (52, 54), (52, 55), (52, 56), (53, 56), (53, 55), (53, 54), (53, 53), (53, 52), (53, 51), (53, 50), (53, 49), (53, 48), (53, 47), (53, 46), (53, 45), (53, 44), (53, 43), (53, 42), (53, 41), (53, 40), (53, 39), (53, 38), (53, 37), (53, 36), (53, 35), (53, 34), (53, 33), (53, 32), (53, 31), (53, 30), (53, 29), (53, 28), (53, 27), (53, 26), (53, 25), (53, 24), (53, 23), (53, 22), (53, 21), (53, 20), (53, 19), (53, 18), (53, 17), (53, 16), (53, 15), (53, 14), (53, 13), (53, 12), (53, 11), (53, 10), (53, 9), (53, 8), (53, 7), (54, 7), (54, 8), (54, 9), (54, 10), (54, 11), (54, 12), (54, 13), (54, 14), (54, 15), (54, 16), (54, 17), (54, 18), (54, 19), (54, 20), (54, 21), (54, 22), (54, 23), (54, 24), (54, 25), (54, 26), (54, 27), (54, 28), (54, 29), (54, 30), (54, 31), (54, 32), (54, 33), (54, 34), (54, 35), (54, 36), (54, 37), (54, 38), (54, 39), (54, 40), (54, 41), (54, 42), (54, 43), (54, 44), (54, 45), (54, 46), (54, 47), (54, 48), (54, 49), (54, 50), (54, 51), (54, 52), (54, 53), (54, 54), (54, 55), (54, 56), (55, 56), (55, 55), (55, 54), (55, 53), (55, 52), (55, 51), (55, 50), (55, 49), (55, 48), (55, 47), (55, 46), (55, 45), (55, 44), (55, 43), (55, 42), (55, 41), (55, 40), (55, 39), (55, 38), (55, 37), (55, 36), (55, 35), (55, 34), (55, 33), (55, 32), (55, 31), (55, 30), (55, 29), (55, 28), (55, 27), (55, 26), (55, 25), (55, 24), (55, 23), (55, 22), (55, 21), (55, 20), (55, 19), (55, 18), (55, 17), (55, 16), (55, 15), (55, 14), (55, 13), (55, 12), (55, 11), (55, 10), (55, 9), (55, 8), (55, 7), (55, 6), (55, 5), (55, 4), (55, 3), (55, 2), (55, 1), (54, 1), (54, 2), (54, 3), (54, 4), (53, 4), (53, 3), (53, 2), (53, 1), (52, 1), (52, 2), (52, 3), (52, 4), (51, 4), (51, 3), (51, 2), (51, 1), (50, 1), (50, 2), (50, 3), (49, 3), (49, 2), (49, 1), (48, 1), (48, 2), (48, 3), (47, 3), (47, 2), (47, 1), (46, 1), (46, 2), (46, 3), (45, 3), (45, 2), (45, 1), (44, 1), (44, 2), (44, 3), (43, 3), (43, 2), (43, 1), (42, 1), (42, 2), (42, 3), (41, 3), (41, 2), (41, 1), (40, 1), (40, 2), (40, 3), (40, 4), (39, 4), (39, 5), (38, 5), (38, 6), (37, 6), (37, 7), (37, 8), (36, 8), (36, 9), (35, 9), (35, 10), (34, 10), (34, 11), (33, 11), (33, 12), (32, 12), (32, 13), (31, 13), (31, 14), (30, 14), (30, 15), (29, 15), (29, 16), (28, 16), (28, 17), (27, 17), (27, 18), (27, 19), (26, 19), (26, 20), (25, 20), (25, 21), (24, 21), (24, 22), (23, 22), (23, 23), (22, 23), (22, 24), (21, 24), (21, 25), (20, 25), (20, 26), (19, 26), (19, 27), (18, 27), (18, 28), (18, 29), (17, 29), (17, 30), (16, 30), (16, 31), (15, 31), (15, 32), (14, 32), (14, 33), (13, 33), (13, 34), (12, 34), (12, 35), (11, 35), (11, 36), (10, 36), (10, 37), (9, 37), (9, 38), (9, 39), (8, 39), (8, 40), (7, 40), (7, 41), (6, 41), (6, 42), (5, 42), (5, 43), (4, 43), (4, 44), (4, 45), (4, 46), (4, 47), (4, 48), (4, 49), (4, 50), (4, 51), (4, 52), (4, 53), (4, 54), (4, 55), (4, 56), (3, 56), (3, 55), (3, 54), (3, 53), (3, 52), (3, 51), (3, 50), (3, 49), (3, 48), (3, 47), (3, 46), (3, 45), (3, 44), (3, 43), (3, 42), (3, 41), (3, 40), (3, 39), (3, 38), (3, 37), (3, 36), (3, 35), (3, 34), (3, 33), (3, 32), (3, 31), (3, 30), (3, 29), (3, 28), (3, 27), (3, 26), (3, 25), (3, 24), (3, 23), (3, 22), (3, 21), (3, 20), (3, 19), (3, 18), (3, 17), (3, 16), (3, 15), (3, 14), (3, 13), (3, 12), (3, 11), (3, 10), (3, 9), (3, 8), (3, 7), (3, 6), (4, 6)]\n"
     ]
    }
   ],
   "source": [
    "from collections import deque as queue\n",
    "\n",
    "def depth_first_search(maze: SolveMaze) -> list[tuple[int, int]]:\n",
    "    visited = set()\n",
    "    stack = queue([(maze.starting_point, [maze.starting_point])]) #empezamos en el punto de inicio\n",
    "\n",
    "    if maze.goalTest(maze.starting_point):\n",
    "        return maze.starting_point\n",
    "    \n",
    "    while stack:\n",
    "        # agarrar el primer elemento de la pila\n",
    "        current, path = stack.pop()  # Queue\n",
    "\n",
    "        if maze.goalTest(current):\n",
    "            return path\n",
    "        \n",
    "        if current in visited:\n",
    "            continue\n",
    "\n",
    "        visited.add(current)\n",
    "        for action in maze.actions(current): #obtenemos las acciones posibles\n",
    "            stack.append((action, path + [action])) #agregamos las acciones a la pila\n",
    "    return None \n",
    "    \n",
    "path_dfs = depth_first_search(maze)\n",
    "print(path_dfs)"
   ]
  },
  {
   "cell_type": "code",
   "execution_count": 168,
   "metadata": {},
   "outputs": [],
   "source": [
    "maze_with_path_dfs = drawPath(imagen_np, path_dfs)\n",
    "maze_with_path_dfs = Image.fromarray(maze_with_path_dfs)\n",
    "maze_with_path_dfs.show() # Mostrar la imagen"
   ]
  },
  {
   "cell_type": "code",
   "execution_count": 169,
   "metadata": {},
   "outputs": [
    {
     "name": "stdout",
     "output_type": "stream",
     "text": [
      "[(49, 48), (49, 49), (49, 50), (50, 50), (50, 51), (51, 51), (51, 50), (51, 49), (51, 48), (52, 48), (52, 49), (52, 50), (52, 51), (52, 52), (52, 53), (52, 54), (52, 55), (52, 56), (53, 56), (53, 55), (53, 54), (53, 53), (53, 52), (53, 51), (53, 50), (53, 49), (53, 48), (53, 47), (53, 46), (53, 45), (53, 44), (53, 43), (53, 42), (53, 41), (53, 40), (53, 39), (53, 38), (53, 37), (53, 36), (53, 35), (53, 34), (53, 33), (53, 32), (53, 31), (53, 30), (53, 29), (53, 28), (53, 27), (53, 26), (53, 25), (53, 24), (53, 23), (53, 22), (53, 21), (53, 20), (53, 19), (53, 18), (53, 17), (53, 16), (53, 15), (53, 14), (53, 13), (53, 12), (53, 11), (53, 10), (53, 9), (53, 8), (53, 7), (54, 7), (54, 8), (54, 9), (54, 10), (54, 11), (54, 12), (54, 13), (54, 14), (54, 15), (54, 16), (54, 17), (54, 18), (54, 19), (54, 20), (54, 21), (54, 22), (54, 23), (54, 24), (54, 25), (54, 26), (54, 27), (54, 28), (54, 29), (54, 30), (54, 31), (54, 32), (54, 33), (54, 34), (54, 35), (54, 36), (54, 37), (54, 38), (54, 39), (54, 40), (54, 41), (54, 42), (54, 43), (54, 44), (54, 45), (54, 46), (54, 47), (54, 48), (54, 49), (54, 50), (54, 51), (54, 52), (54, 53), (54, 54), (54, 55), (54, 56), (55, 56), (55, 55), (55, 54), (55, 53), (55, 52), (55, 51), (55, 50), (55, 49), (55, 48), (55, 47), (55, 46), (55, 45), (55, 44), (55, 43), (55, 42), (55, 41), (55, 40), (55, 39), (55, 38), (55, 37), (55, 36), (55, 35), (55, 34), (55, 33), (55, 32), (55, 31), (55, 30), (55, 29), (55, 28), (55, 27), (55, 26), (55, 25), (55, 24), (55, 23), (55, 22), (55, 21), (55, 20), (55, 19), (55, 18), (55, 17), (55, 16), (55, 15), (55, 14), (55, 13), (55, 12), (55, 11), (55, 10), (55, 9), (55, 8), (55, 7), (55, 6), (55, 5), (55, 4), (55, 3), (55, 2), (55, 1), (54, 1), (54, 2), (54, 3), (54, 4), (53, 4), (53, 3), (53, 2), (53, 1), (52, 1), (52, 2), (52, 3), (52, 4), (51, 4), (51, 3), (51, 2), (51, 1), (50, 1), (50, 2), (50, 3), (49, 3), (49, 2), (49, 1), (48, 1), (48, 2), (48, 3), (47, 3), (47, 2), (47, 1), (46, 1), (46, 2), (46, 3), (45, 3), (45, 2), (45, 1), (44, 1), (44, 2), (44, 3), (43, 3), (43, 2), (43, 1), (42, 1), (42, 2), (42, 3), (41, 3), (41, 2), (41, 1), (40, 1), (40, 2), (40, 3), (40, 4), (39, 4), (39, 5), (38, 5), (38, 6), (37, 6), (37, 7), (37, 8), (36, 8), (36, 9), (35, 9), (35, 10), (34, 10), (34, 11), (33, 11), (33, 12), (32, 12), (32, 13), (31, 13), (31, 14), (30, 14), (30, 15), (29, 15), (29, 16), (28, 16), (28, 17), (27, 17), (27, 18), (27, 19), (26, 19), (26, 20), (25, 20), (25, 21), (24, 21), (24, 22), (23, 22), (23, 23), (22, 23), (22, 24), (21, 24), (21, 25), (20, 25), (20, 26), (19, 26), (19, 27), (18, 27), (18, 28), (18, 29), (17, 29), (17, 30), (16, 30), (16, 31), (15, 31), (15, 32), (14, 32), (14, 33), (13, 33), (13, 34), (12, 34), (12, 35), (11, 35), (11, 36), (10, 36), (10, 37), (9, 37), (9, 38), (9, 39), (8, 39), (8, 40), (7, 40), (7, 41), (6, 41), (6, 42), (5, 42), (5, 43), (4, 43), (4, 44), (4, 45), (4, 46), (4, 47), (4, 48), (4, 49), (4, 50), (4, 51), (4, 52), (4, 53), (4, 54), (4, 55), (4, 56), (3, 56), (3, 55), (3, 54), (3, 53), (3, 52), (3, 51), (3, 50), (3, 49), (3, 48), (3, 47), (3, 46), (3, 45), (3, 44), (3, 43), (3, 42), (3, 41), (3, 40), (3, 39), (3, 38), (3, 37), (3, 36), (3, 35), (3, 34), (3, 33), (3, 32), (3, 31), (3, 30), (3, 29), (3, 28), (3, 27), (3, 26), (3, 25), (3, 24), (3, 23), (3, 22), (3, 21), (3, 20), (3, 19), (3, 18), (3, 17), (3, 16), (3, 15), (3, 14), (3, 13), (3, 12), (3, 11), (3, 10), (3, 9), (3, 8), (3, 7), (3, 6), (4, 6)]\n"
     ]
    }
   ],
   "source": [
    "def a_star(maze: SolveMaze, n:int) -> list[tuple[int, int]]:\n",
    "    start = maze.starting_point #empezamos en el punto de inicio\n",
    "    frontier = queue([(start, [start], 0)]) #empezamos en el punto de inicio\n",
    "    explored = set()\n",
    "    paths = []\n",
    "\n",
    "    while frontier and len(paths) <= n:\n",
    "        current_pos, path, cost = frontier.pop()  # Queue\n",
    "        \n",
    "        if maze.goalTest(current_pos):\n",
    "            paths.append(path)\n",
    "        \n",
    "        if current_pos in explored:\n",
    "            continue\n",
    "        \n",
    "        explored.add(current_pos)\n",
    "        \n",
    "        for action in maze.actions(current_pos):\n",
    "            new_cost = cost + maze.cost(action)\n",
    "            frontier.append((action, path + [action], new_cost))\n",
    "\n",
    "    shortest_path = min(paths, key=maze.pathCost)\n",
    "        \n",
    "    return shortest_path\n",
    "\n",
    "path_a_star = a_star(maze, 100)\n",
    "print(path_a_star)"
   ]
  },
  {
   "cell_type": "code",
   "execution_count": 170,
   "metadata": {},
   "outputs": [],
   "source": [
    "maze_with_path_a_star = drawPath(imagen_np, path_a_star)\n",
    "maze_with_path_a_star = Image.fromarray(maze_with_path_a_star)\n",
    "maze_with_path_a_star.show() # Mostrar la imagen"
   ]
  },
  {
   "cell_type": "markdown",
   "metadata": {},
   "source": [
    "## Imagen 3"
   ]
  },
  {
   "cell_type": "code",
   "execution_count": 186,
   "metadata": {},
   "outputs": [
    {
     "name": "stdout",
     "output_type": "stream",
     "text": [
      "Alto: 582, Ancho: 582\n",
      "Nuevo alto: 59, Nuevo ancho: 59\n"
     ]
    }
   ],
   "source": [
    "ruta_imagen3 = 'images/3.bmp'\n",
    "tamano_bloque3 = 10\n",
    "imagen_discreta3 = convertir_a_discreto(ruta_imagen3, tamano_bloque3)\n",
    "imagen_discreta3.show() # Mostrar la imagen"
   ]
  },
  {
   "cell_type": "code",
   "execution_count": 187,
   "metadata": {},
   "outputs": [
    {
     "name": "stdout",
     "output_type": "stream",
     "text": [
      "(59, 59, 3)\n"
     ]
    }
   ],
   "source": [
    "imagen_np3 = np.array(imagen_discreta3)\n",
    "print(imagen_np3.shape)"
   ]
  },
  {
   "cell_type": "code",
   "execution_count": 188,
   "metadata": {},
   "outputs": [
    {
     "name": "stdout",
     "output_type": "stream",
     "text": [
      "SolveMaze(maze=(59, 59, 3), starting_point=(41, 41))\n"
     ]
    }
   ],
   "source": [
    "maze3 = SolveMaze(imagen_np3)\n",
    "print(maze3)"
   ]
  },
  {
   "cell_type": "markdown",
   "metadata": {},
   "source": [
    "### BFS"
   ]
  },
  {
   "cell_type": "code",
   "execution_count": 174,
   "metadata": {},
   "outputs": [
    {
     "name": "stdout",
     "output_type": "stream",
     "text": [
      "[(41, 41), (40, 41), (39, 41), (38, 41), (37, 41), (36, 41), (35, 41), (34, 41), (33, 41), (32, 41), (32, 40), (32, 39), (32, 38), (31, 38), (30, 38), (29, 38), (28, 38), (27, 38), (26, 38), (25, 38), (24, 38), (23, 38), (22, 38), (21, 38), (20, 38), (19, 38), (18, 38), (17, 38), (16, 38), (15, 38), (14, 38), (13, 38), (12, 38), (11, 38), (10, 38), (9, 38), (8, 38), (8, 37), (8, 36), (8, 35), (8, 34), (8, 33), (8, 32), (8, 31), (8, 30), (8, 29), (8, 28), (8, 27), (8, 26), (8, 25), (8, 24)]\n"
     ]
    }
   ],
   "source": [
    "path_bfs3 = breadthFirstSearch(maze3)\n",
    "print(path_bfs3)"
   ]
  },
  {
   "cell_type": "code",
   "execution_count": 175,
   "metadata": {},
   "outputs": [],
   "source": [
    "maze_with_path_bfs3 = drawPath(imagen_np3, path_bfs3)\n",
    "maze_with_path_bfs3 = Image.fromarray(maze_with_path_bfs3)\n",
    "maze_with_path_bfs3.show() # Mostrar la imagen"
   ]
  },
  {
   "cell_type": "markdown",
   "metadata": {},
   "source": [
    "### DFS"
   ]
  },
  {
   "cell_type": "code",
   "execution_count": 176,
   "metadata": {},
   "outputs": [
    {
     "name": "stdout",
     "output_type": "stream",
     "text": [
      "[(41, 41), (41, 42), (41, 43), (41, 44), (42, 44), (42, 43), (42, 42), (42, 41), (43, 41), (43, 42), (43, 43), (43, 44), (43, 45), (43, 46), (43, 47), (43, 48), (44, 48), (44, 47), (44, 46), (44, 45), (44, 44), (44, 43), (44, 42), (44, 41), (44, 40), (44, 39), (44, 38), (44, 37), (44, 36), (44, 35), (44, 34), (44, 33), (44, 32), (44, 31), (44, 30), (44, 29), (44, 28), (44, 27), (45, 27), (45, 28), (45, 29), (45, 30), (45, 31), (45, 32), (45, 33), (45, 34), (45, 35), (45, 36), (45, 37), (45, 38), (45, 39), (45, 40), (45, 41), (45, 42), (45, 43), (45, 44), (45, 45), (45, 46), (45, 47), (45, 48), (46, 48), (46, 47), (46, 46), (46, 45), (46, 44), (46, 43), (46, 42), (46, 41), (46, 40), (46, 39), (46, 38), (46, 37), (46, 36), (46, 35), (46, 34), (46, 33), (46, 32), (46, 31), (46, 30), (46, 29), (46, 28), (46, 27), (46, 26), (46, 25), (47, 25), (47, 26), (47, 27), (47, 28), (47, 29), (47, 30), (47, 31), (47, 32), (47, 33), (47, 34), (47, 35), (47, 36), (47, 37), (47, 38), (47, 39), (47, 40), (47, 41), (47, 42), (47, 43), (47, 44), (47, 45), (47, 46), (47, 47), (47, 48), (48, 48), (48, 47), (48, 46), (48, 45), (48, 44), (48, 43), (48, 42), (48, 41), (48, 40), (48, 39), (48, 38), (48, 37), (48, 36), (48, 35), (48, 34), (48, 33), (48, 32), (48, 31), (48, 30), (48, 29), (48, 28), (48, 27), (48, 26), (48, 25), (48, 24), (48, 23), (48, 22), (49, 22), (49, 23), (49, 24), (49, 25), (49, 26), (49, 27), (50, 27), (50, 26), (50, 25), (50, 24), (50, 23), (50, 22), (50, 21), (50, 20), (51, 20), (51, 21), (51, 22), (51, 23), (51, 24), (51, 25), (51, 26), (51, 27), (52, 27), (52, 26), (52, 25), (52, 24), (52, 23), (52, 22), (52, 21), (52, 20), (52, 19), (52, 18), (52, 17), (52, 16), (52, 15), (52, 14), (51, 14), (51, 15), (51, 16), (51, 17), (50, 17), (50, 16), (50, 15), (50, 14), (49, 14), (49, 15), (49, 16), (49, 17), (48, 17), (48, 16), (48, 15), (48, 14), (47, 14), (47, 15), (47, 16), (46, 16), (46, 15), (46, 14), (45, 14), (45, 15), (45, 16), (44, 16), (44, 15), (44, 14), (44, 13), (43, 13), (43, 14), (43, 15), (43, 16), (42, 16), (42, 15), (42, 14), (42, 13), (42, 12), (42, 11), (41, 11), (41, 12), (41, 13), (41, 14), (41, 15), (41, 16), (40, 16), (40, 15), (40, 14), (40, 13), (40, 12), (40, 11), (40, 10), (39, 10), (39, 11), (39, 12), (39, 13), (39, 14), (39, 15), (39, 16), (38, 16), (38, 15), (38, 14), (38, 13), (38, 12), (38, 11), (38, 10), (38, 9), (38, 8), (38, 7), (38, 6), (38, 5), (38, 4), (38, 3)]\n"
     ]
    }
   ],
   "source": [
    "path_dfs3 = depth_first_search(maze3)\n",
    "print(path_dfs3)\n"
   ]
  },
  {
   "cell_type": "code",
   "execution_count": 177,
   "metadata": {},
   "outputs": [],
   "source": [
    "maze_with_path_dfs3 = drawPath(imagen_np3, path_dfs3)\n",
    "maze_with_path_dfs3 = Image.fromarray(maze_with_path_dfs3)\n",
    "maze_with_path_dfs3.show() # Mostrar la imagen"
   ]
  },
  {
   "cell_type": "markdown",
   "metadata": {},
   "source": [
    "### A*"
   ]
  },
  {
   "cell_type": "code",
   "execution_count": 178,
   "metadata": {},
   "outputs": [
    {
     "name": "stdout",
     "output_type": "stream",
     "text": [
      "[(41, 41), (41, 42), (41, 43), (41, 44), (42, 44), (42, 43), (42, 42), (42, 41), (43, 41), (43, 42), (43, 43), (43, 44), (43, 45), (43, 46), (43, 47), (43, 48), (44, 48), (44, 47), (44, 46), (44, 45), (44, 44), (44, 43), (44, 42), (44, 41), (44, 40), (44, 39), (44, 38), (44, 37), (44, 36), (44, 35), (44, 34), (44, 33), (44, 32), (44, 31), (44, 30), (44, 29), (44, 28), (44, 27), (45, 27), (45, 28), (45, 29), (45, 30), (45, 31), (45, 32), (45, 33), (45, 34), (45, 35), (45, 36), (45, 37), (45, 38), (45, 39), (45, 40), (45, 41), (45, 42), (45, 43), (45, 44), (45, 45), (45, 46), (45, 47), (45, 48), (46, 48), (46, 47), (46, 46), (46, 45), (46, 44), (46, 43), (46, 42), (46, 41), (46, 40), (46, 39), (46, 38), (46, 37), (46, 36), (46, 35), (46, 34), (46, 33), (46, 32), (46, 31), (46, 30), (46, 29), (46, 28), (46, 27), (46, 26), (46, 25), (47, 25), (47, 26), (47, 27), (47, 28), (47, 29), (47, 30), (47, 31), (47, 32), (47, 33), (47, 34), (47, 35), (47, 36), (47, 37), (47, 38), (47, 39), (47, 40), (47, 41), (47, 42), (47, 43), (47, 44), (47, 45), (47, 46), (47, 47), (47, 48), (48, 48), (48, 47), (48, 46), (48, 45), (48, 44), (48, 43), (48, 42), (48, 41), (48, 40), (48, 39), (48, 38), (48, 37), (48, 36), (48, 35), (48, 34), (48, 33), (48, 32), (48, 31), (48, 30), (48, 29), (48, 28), (48, 27), (48, 26), (48, 25), (48, 24), (48, 23), (48, 22), (49, 22), (49, 23), (49, 24), (49, 25), (49, 26), (49, 27), (50, 27), (50, 26), (50, 25), (50, 24), (50, 23), (50, 22), (50, 21), (50, 20), (51, 20), (51, 21), (51, 22), (51, 23), (51, 24), (51, 25), (51, 26), (51, 27), (52, 27), (52, 26), (52, 25), (52, 24), (52, 23), (52, 22), (52, 21), (52, 20), (52, 19), (52, 18), (52, 17), (52, 16), (52, 15), (52, 14), (51, 14), (51, 15), (51, 16), (51, 17), (50, 17), (50, 16), (50, 15), (50, 14), (49, 14), (49, 15), (49, 16), (49, 17), (48, 17), (48, 16), (48, 15), (48, 14), (47, 14), (47, 15), (47, 16), (46, 16), (46, 15), (46, 14), (45, 14), (45, 15), (45, 16), (44, 16), (44, 15), (44, 14), (44, 13), (43, 13), (43, 14), (43, 15), (43, 16), (42, 16), (42, 15), (42, 14), (42, 13), (42, 12), (42, 11), (41, 11), (41, 12), (41, 13), (41, 14), (41, 15), (41, 16), (40, 16), (40, 15), (40, 14), (40, 13), (40, 12), (40, 11), (40, 10), (39, 10), (39, 11), (39, 12), (39, 13), (39, 14), (39, 15), (39, 16), (38, 16), (38, 15), (38, 14), (38, 13), (38, 12), (38, 11), (38, 10), (38, 9), (38, 8), (38, 7), (38, 6), (38, 5), (38, 4), (38, 3)]\n"
     ]
    }
   ],
   "source": [
    "path_a_star3 = a_star(maze3, 100)\n",
    "print(path_a_star3)"
   ]
  },
  {
   "cell_type": "code",
   "execution_count": 179,
   "metadata": {},
   "outputs": [],
   "source": [
    "maze_with_path_a_star3 = drawPath(imagen_np3, path_a_star3)\n",
    "maze_with_path_a_star3 = Image.fromarray(maze_with_path_a_star3)\n",
    "maze_with_path_a_star3.show() # Mostrar la imagen"
   ]
  },
  {
   "cell_type": "markdown",
   "metadata": {},
   "source": [
    "## Imagen 2"
   ]
  },
  {
   "cell_type": "code",
   "execution_count": 254,
   "metadata": {},
   "outputs": [],
   "source": [
    "from PIL import Image\n",
    "import numpy as np\n",
    "def convertir_a_discreto2(imagen_path, tamano_bloque):\n",
    "    # Cargar la imagen\n",
    "    imagen = Image.open(imagen_path)\n",
    "    imagen_np = np.array(imagen)\n",
    "    \n",
    "    # Dimensiones de la imagen\n",
    "    alto, ancho, _ = imagen_np.shape\n",
    "    \n",
    "    nuevo_alto = (alto // tamano_bloque) + 1\n",
    "    nuevo_ancho = (ancho // tamano_bloque) + 1\n",
    "\n",
    "    print(f'Alto: {alto}, Ancho: {ancho}')\n",
    "    print(f'Nuevo alto: {nuevo_alto}, Nuevo ancho: {nuevo_ancho}')\n",
    "\n",
    "    # Redimensionar la imagen\n",
    "    imagen_salida = np.zeros((nuevo_alto, nuevo_ancho, 3), dtype=np.uint8)\n",
    "    \n",
    "    for y in range(0, alto, tamano_bloque):\n",
    "        for x in range(0, ancho, tamano_bloque):\n",
    "            new_y = y // tamano_bloque\n",
    "            new_x = x // tamano_bloque\n",
    "            # Extraer el bloque\n",
    "            bloque = imagen_np[y:y+tamano_bloque, x:x+tamano_bloque]\n",
    "            \n",
    "            # Calcular el color promedio del bloque\n",
    "            color_promedio = bloque.mean(axis=(0,1)).astype(int)\n",
    "            #convertir los colores difuminados al color mas predominante\n",
    "            #verde\n",
    "            if color_promedio[1] > color_promedio[0] and color_promedio[1] > color_promedio[2]:\n",
    "                color_promedio[1] = 255\n",
    "                color_promedio[0] = 0\n",
    "                color_promedio[2] = 0 \n",
    "            #rojo\n",
    "            elif color_promedio[0] > color_promedio[1] and color_promedio[0] > color_promedio[2]:\n",
    "                color_promedio[0] = 255\n",
    "                color_promedio[1] = 0\n",
    "                color_promedio[2] = 0\n",
    "\n",
    "            #grises\n",
    "            elif color_promedio[0] == color_promedio[1] and color_promedio[0] == color_promedio[2] and color_promedio[0]< 255:\n",
    "                color_promedio[0] = 0\n",
    "                color_promedio[1] = 0\n",
    "                color_promedio[2] = 0 \n",
    "            \n",
    "            # Asignar el color promedio al bloque correspondiente en la imagen de salida\n",
    "            imagen_salida[new_y, new_x] = color_promedio\n",
    "    \n",
    "    imagen_discreta = Image.fromarray(imagen_salida)\n",
    "    return imagen_discreta\n"
   ]
  },
  {
   "cell_type": "code",
   "execution_count": 255,
   "metadata": {},
   "outputs": [
    {
     "name": "stdout",
     "output_type": "stream",
     "text": [
      "Alto: 582, Ancho: 582\n",
      "Nuevo alto: 59, Nuevo ancho: 59\n"
     ]
    }
   ],
   "source": [
    "ruta_imagen2 = 'images/2.bmp'\n",
    "tamano_bloque2 = 10\n",
    "imagen_discreta2 = convertir_a_discreto2(ruta_imagen2, tamano_bloque2)\n",
    "imagen_discreta2.show() # Mostrar la imagen"
   ]
  },
  {
   "cell_type": "code",
   "execution_count": 253,
   "metadata": {},
   "outputs": [
    {
     "name": "stdout",
     "output_type": "stream",
     "text": [
      "Start found at (45, 44)\n",
      "Actions: []\n",
      "New SP (45, 44)\n",
      "Start found at (45, 45)\n",
      "Actions: []\n",
      "Start found at (45, 46)\n",
      "Actions: []\n",
      "Start found at (46, 44)\n",
      "Actions: []\n",
      "Start found at (46, 45)\n",
      "Actions: []\n",
      "Start found at (46, 46)\n",
      "Actions: []\n",
      "Start found at (47, 44)\n",
      "Actions: []\n",
      "Start found at (47, 45)\n",
      "Actions: []\n",
      "SolveMaze(maze=(59, 59, 3), starting_point=(45, 44))\n",
      "[]\n"
     ]
    }
   ],
   "source": [
    "maze2 = SolveMaze(np.array(imagen_discreta2))\n",
    "print(maze2)\n",
    "print(maze2.actions(maze2.starting_point))"
   ]
  },
  {
   "cell_type": "markdown",
   "metadata": {},
   "source": [
    "### BFS"
   ]
  },
  {
   "cell_type": "code",
   "execution_count": 205,
   "metadata": {},
   "outputs": [
    {
     "name": "stdout",
     "output_type": "stream",
     "text": [
      "deque([((45, 44), [(45, 44)])])\n",
      "deque([((46, 44), [(45, 44), (46, 44)]), ((45, 45), [(45, 44), (45, 45)])])\n",
      "deque([((45, 45), [(45, 44), (45, 45)]), ((47, 44), [(45, 44), (46, 44), (47, 44)]), ((46, 45), [(45, 44), (46, 44), (46, 45)])])\n",
      "deque([((47, 44), [(45, 44), (46, 44), (47, 44)]), ((46, 45), [(45, 44), (46, 44), (46, 45)]), ((46, 45), [(45, 44), (45, 45), (46, 45)]), ((45, 46), [(45, 44), (45, 45), (45, 46)])])\n",
      "deque([((46, 45), [(45, 44), (46, 44), (46, 45)]), ((46, 45), [(45, 44), (45, 45), (46, 45)]), ((45, 46), [(45, 44), (45, 45), (45, 46)]), ((47, 45), [(45, 44), (46, 44), (47, 44), (47, 45)])])\n",
      "deque([((46, 45), [(45, 44), (45, 45), (46, 45)]), ((45, 46), [(45, 44), (45, 45), (45, 46)]), ((47, 45), [(45, 44), (46, 44), (47, 44), (47, 45)]), ((47, 45), [(45, 44), (46, 44), (46, 45), (47, 45)]), ((46, 46), [(45, 44), (46, 44), (46, 45), (46, 46)])])\n",
      "deque([((45, 46), [(45, 44), (45, 45), (45, 46)]), ((47, 45), [(45, 44), (46, 44), (47, 44), (47, 45)]), ((47, 45), [(45, 44), (46, 44), (46, 45), (47, 45)]), ((46, 46), [(45, 44), (46, 44), (46, 45), (46, 46)])])\n",
      "deque([((47, 45), [(45, 44), (46, 44), (47, 44), (47, 45)]), ((47, 45), [(45, 44), (46, 44), (46, 45), (47, 45)]), ((46, 46), [(45, 44), (46, 44), (46, 45), (46, 46)]), ((46, 46), [(45, 44), (45, 45), (45, 46), (46, 46)])])\n",
      "deque([((47, 45), [(45, 44), (46, 44), (46, 45), (47, 45)]), ((46, 46), [(45, 44), (46, 44), (46, 45), (46, 46)]), ((46, 46), [(45, 44), (45, 45), (45, 46), (46, 46)])])\n",
      "deque([((46, 46), [(45, 44), (46, 44), (46, 45), (46, 46)]), ((46, 46), [(45, 44), (45, 45), (45, 46), (46, 46)])])\n",
      "deque([((46, 46), [(45, 44), (45, 45), (45, 46), (46, 46)])])\n",
      "None\n"
     ]
    }
   ],
   "source": [
    "maze_with_path_bfs2 = breadthFirstSearch(maze2)\n",
    "print(maze_with_path_bfs2)"
   ]
  }
 ],
 "metadata": {
  "kernelspec": {
   "display_name": "Python 3",
   "language": "python",
   "name": "python3"
  },
  "language_info": {
   "codemirror_mode": {
    "name": "ipython",
    "version": 3
   },
   "file_extension": ".py",
   "mimetype": "text/x-python",
   "name": "python",
   "nbconvert_exporter": "python",
   "pygments_lexer": "ipython3",
   "version": "3.12.0"
  },
  "orig_nbformat": 4
 },
 "nbformat": 4,
 "nbformat_minor": 2
}
