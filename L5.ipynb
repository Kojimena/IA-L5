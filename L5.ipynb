{
 "cells": [
  {
   "cell_type": "markdown",
   "metadata": {},
   "source": [
    "## Inteligencia Artificial\n",
    "## - Laboratorio 5 -\n",
    "Autores:\n",
    "- Mark Albrand \n",
    "- Jimena Hernández"
   ]
  },
  {
   "cell_type": "markdown",
   "metadata": {},
   "source": [
    "### Task 1 - Graph-Search"
   ]
  },
  {
   "cell_type": "code",
   "execution_count": 44,
   "metadata": {},
   "outputs": [],
   "source": [
    "import matplotlib.pylab as plt\n",
    "import numpy as np"
   ]
  },
  {
   "cell_type": "markdown",
   "metadata": {},
   "source": [
    "### Task 1.1 - Discretización de la imagen"
   ]
  },
  {
   "cell_type": "code",
   "execution_count": 45,
   "metadata": {},
   "outputs": [
    {
     "name": "stdout",
     "output_type": "stream",
     "text": [
      "Alto: 582, Ancho: 582\n",
      "Nuevo alto: 59, Nuevo ancho: 59\n"
     ]
    }
   ],
   "source": [
    "from PIL import Image\n",
    "import numpy as np\n",
    "def convertir_a_discreto(imagen_path, tamano_bloque):\n",
    "    # Cargar la imagen\n",
    "    imagen = Image.open(imagen_path)\n",
    "    imagen_np = np.array(imagen)\n",
    "    \n",
    "    # Dimensiones de la imagen\n",
    "    alto, ancho, _ = imagen_np.shape\n",
    "    \n",
    "    nuevo_alto = (alto // tamano_bloque) + 1\n",
    "    nuevo_ancho = (ancho // tamano_bloque) + 1\n",
    "\n",
    "    print(f'Alto: {alto}, Ancho: {ancho}')\n",
    "    print(f'Nuevo alto: {nuevo_alto}, Nuevo ancho: {nuevo_ancho}')\n",
    "\n",
    "    # Redimensionar la imagen\n",
    "    imagen_salida = np.zeros((nuevo_alto, nuevo_ancho, 3), dtype=np.uint8)\n",
    "    \n",
    "    for y in range(0, alto, tamano_bloque):\n",
    "        for x in range(0, ancho, tamano_bloque):\n",
    "            new_y = y // tamano_bloque\n",
    "            new_x = x // tamano_bloque\n",
    "            # Extraer el bloque\n",
    "            bloque = imagen_np[y:y+tamano_bloque, x:x+tamano_bloque]\n",
    "            \n",
    "            # Calcular el color promedio del bloque\n",
    "            color_promedio = bloque.mean(axis=(0,1)).astype(int)\n",
    "            #convertir los colores difuminados al color mas predominante\n",
    "            #verde\n",
    "            if color_promedio[1] > color_promedio[0] and color_promedio[1] > color_promedio[2]:\n",
    "                color_promedio[1] = 255\n",
    "                color_promedio[0] = 0\n",
    "                color_promedio[2] = 0 \n",
    "            #rojo\n",
    "            elif color_promedio[0] > color_promedio[1] and color_promedio[0] > color_promedio[2]:\n",
    "                color_promedio[0] = 255\n",
    "                color_promedio[1] = 0\n",
    "                color_promedio[2] = 0\n",
    "\n",
    "            #grises\n",
    "            elif color_promedio[0] == color_promedio[1] and color_promedio[0] == color_promedio[2] and color_promedio[0]< 255:\n",
    "                color_promedio[0] = 0\n",
    "                color_promedio[1] = 0\n",
    "                color_promedio[2] = 0\n",
    "            \n",
    "            # Asignar el color promedio al bloque correspondiente en la imagen de salida\n",
    "            imagen_salida[new_y, new_x] = color_promedio\n",
    "    \n",
    "    imagen_discreta = Image.fromarray(imagen_salida)\n",
    "    return imagen_discreta\n",
    "\n",
    "ruta_imagen = 'images/1.bmp' \n",
    "tamano_bloque = 10 #bloques de 14x14\n",
    "imagen_discreta = convertir_a_discreto(ruta_imagen, tamano_bloque)\n",
    "imagen_discreta.show() # Mostrar la imagen\n"
   ]
  },
  {
   "cell_type": "markdown",
   "metadata": {},
   "source": [
    "Las áreas blancas representan caminos libres\n",
    "Las áreas negras representan paredes sobre las cuales no se puede pasar\n",
    "Las áreas verdes representan la meta (goalTest positivos) (pueden ser varios)\n",
    "La área roja representa el punto de inicio (solo podrá haber uno)"
   ]
  },
  {
   "cell_type": "code",
   "execution_count": 46,
   "metadata": {},
   "outputs": [
    {
     "name": "stdout",
     "output_type": "stream",
     "text": [
      "<class 'PIL.Image.Image'>\n"
     ]
    }
   ],
   "source": [
    "print(type(imagen_discreta))"
   ]
  },
  {
   "cell_type": "code",
   "execution_count": 47,
   "metadata": {},
   "outputs": [
    {
     "name": "stdout",
     "output_type": "stream",
     "text": [
      "(59, 59, 3)\n"
     ]
    }
   ],
   "source": [
    "# Pasar la imagen a un arreglo de numpy\n",
    "imagen_np = np.array(imagen_discreta)\n",
    "print(imagen_np.shape)\n",
    "\n",
    "height, width, channels = imagen_np.shape"
   ]
  },
  {
   "cell_type": "code",
   "execution_count": 48,
   "metadata": {},
   "outputs": [
    {
     "name": "stdout",
     "output_type": "stream",
     "text": [
      "x: 4, y: 4\n",
      "x: 5, y: 4\n",
      "x: 6, y: 4\n",
      "x: 3, y: 5\n",
      "x: 4, y: 5\n",
      "x: 5, y: 5\n",
      "x: 6, y: 5\n",
      "x: 7, y: 5\n",
      "x: 3, y: 6\n",
      "x: 4, y: 6\n",
      "x: 5, y: 6\n",
      "x: 6, y: 6\n",
      "x: 7, y: 6\n",
      "x: 3, y: 7\n",
      "x: 4, y: 7\n",
      "x: 5, y: 7\n",
      "x: 6, y: 7\n",
      "x: 7, y: 7\n",
      "x: 4, y: 8\n",
      "x: 5, y: 8\n",
      "x: 6, y: 8\n"
     ]
    }
   ],
   "source": [
    "# imprimir cualquier x,y que tenga como valor [0, 255, 0]\n",
    "for y in range(0, height):\n",
    "    for x in range(0, width):\n",
    "        if np.array_equal(imagen_np[y][x], [0, 255, 0]):\n",
    "            print(f'x: {x}, y: {y}')"
   ]
  },
  {
   "cell_type": "markdown",
   "metadata": {},
   "source": [
    "### Task 1.2 - Framework de Problemas\n",
    "\n",
    "Puede entenderse como un framework con los siguientes\n",
    "elementos\n",
    "- ○ Estado inicial (s_start) CHEQUE\n",
    "- ○ Función de acción actions(s) → {a 1, a 2,...,a n} CHEQUE\n",
    "- ○ Función de costo de paso cost(s,a,s’) → R CHEQUE\n",
    "-    Estado actual, acción y estado siguiente -> Cuánto cuesta hacer el moviemiento\n",
    "- ○ Función de resultados results(s,a) → s’\n",
    "-    Se usa después de actions, dice a que estado se llega usando lo que dio actions\n",
    "- ○ Función de goalTest(s) → {True, False}\n",
    "    Se pasa de cada config nueva (estado actual), si es la meta o no\n",
    "\n",
    "● Además, algunas veces es útil agregar\n",
    "- ○ Función de costo de ruta pathCost(s 1, s 2,...,s n) → R\n",
    "■ s i = results(s i-1,a i )"
   ]
  },
  {
   "cell_type": "code",
   "execution_count": 49,
   "metadata": {},
   "outputs": [],
   "source": [
    "from typing import TypedDict\n",
    "\n",
    "class legend_dict(TypedDict):\n",
    "    \"\"\"\n",
    "    Define el tipo de dato para el diccionario de leyenda\n",
    "    Los numpy arrays son de 3 elementos, representando los colores RGB\n",
    "    \"\"\"\n",
    "    wall: np.array\n",
    "    path: np.array\n",
    "    start: np.array\n",
    "    end: np.array\n",
    "\n",
    "\n",
    "class SolveMaze:\n",
    "    maze: np.array\n",
    "    starting_point: tuple[int, int]  # (y, x)\n",
    "\n",
    "    legend: legend_dict = {\n",
    "        \"wall\": np.array([0, 0, 0]),  # black\n",
    "        \"path\": np.array([255, 255, 255]),  # white\n",
    "        \"start\": np.array([255, 0, 0]),  # red\n",
    "        \"end\": np.array([0, 255, 0])  # green\n",
    "    }\n",
    "\n",
    "    def __init__(self, maze: np.array):\n",
    "        if maze.ndim != 3:\n",
    "            raise ValueError(\"Maze debe ser un arreglo tridimensional\")\n",
    "\n",
    "        self.maze = maze\n",
    "        self.starting_point = self._findStartinPoint()\n",
    "\n",
    "    \n",
    "    def _findStartinPoint(self) -> tuple[int, int]:\n",
    "        for y in range(0, height, 1):\n",
    "            for x in range(0, width, 1):\n",
    "                if np.array_equal(self.maze[y, x], self.legend[\"start\"]):  # Buscar el punto de inicio, definido por el color en legend\n",
    "                    return (y, x)\n",
    "        return None\n",
    "    \n",
    "    def __str__(self) -> str:\n",
    "        return f\"SolveMaze(maze={self.maze.shape}, starting_point={self.starting_point})\"\n",
    "    \n",
    "    def actions(self, current_pos: tuple[int, int]) -> list[tuple[int, int]]:\n",
    "        \"\"\"\n",
    "        Dada una posición, regresa las posiciones a las que se puede mover\n",
    "        \"\"\"\n",
    "        y, x = current_pos\n",
    "        possible_actions = []\n",
    "        # Regresar las posiciones a las que se puede mover: Path\n",
    "        if y > 0 and np.array_equal(self.maze[y-1, x], self.legend[\"path\"]):\n",
    "            # Si no estamos en el borde superior y la celda de arriba es un camino\n",
    "            # Arriba\n",
    "            possible_actions.append((y-1, x))\n",
    "        if y < height-1 and np.array_equal(self.maze[y+1, x], self.legend[\"path\"]):\n",
    "            # Si no estamos en el borde inferior y la celda de abajo es un camino\n",
    "            # Abajo\n",
    "            possible_actions.append((y+1, x))\n",
    "        if x > 0 and np.array_equal(self.maze[y, x-1], self.legend[\"path\"]):\n",
    "            # Si no estamos en el borde izquierdo y la celda de la izquierda es un camino\n",
    "            # Izquierda\n",
    "            possible_actions.append((y, x-1))\n",
    "        if x < width-1 and np.array_equal(self.maze[y, x+1], self.legend[\"path\"]):\n",
    "            # Si no estamos en el borde derecho y la celda de la derecha es un camino\n",
    "            # Derecha\n",
    "            possible_actions.append((y, x+1))\n",
    "\n",
    "        # Regresar las posiciones a las que se puede mover: End\n",
    "        if y > 0 and np.array_equal(self.maze[y-1, x], self.legend[\"end\"]):\n",
    "            # Si no estamos en el borde superior y la celda de arriba es el punto final\n",
    "            # Arriba\n",
    "            possible_actions.append((y-1, x))\n",
    "        if y < height-1 and np.array_equal(self.maze[y+1, x], self.legend[\"end\"]):\n",
    "            # Si no estamos en el borde inferior y la celda de abajo es el punto final\n",
    "            # Abajo\n",
    "            possible_actions.append((y+1, x))\n",
    "        if x > 0 and np.array_equal(self.maze[y, x-1], self.legend[\"end\"]):\n",
    "            # Si no estamos en el borde izquierdo y la celda de la izquierda es el punto final\n",
    "            # Izquierda\n",
    "            possible_actions.append((y, x-1))\n",
    "        if x < width-1 and np.array_equal(self.maze[y, x+1], self.legend[\"end\"]):\n",
    "            # Si no estamos en el borde derecho y la celda de la derecha es el punto final\n",
    "            # Derecha\n",
    "            possible_actions.append((y, x+1))\n",
    "        \n",
    "        return possible_actions\n",
    "    \n",
    "    def cost(self, next_pos: tuple[int, int]) -> int:\n",
    "        \"\"\"\n",
    "        Dada una posición y una acción, regresa el costo de llegar a esa posición\n",
    "        \"\"\"\n",
    "        actions_next = self.actions(next_pos)\n",
    "        costo = 1\n",
    "\n",
    "        # Cantidad de acciones posibles\n",
    "        match len(actions_next):\n",
    "            case 0:\n",
    "                costo += 999\n",
    "            case 1:\n",
    "                costo += 3\n",
    "            case 2:\n",
    "                costo += 2\n",
    "            case 3:\n",
    "                costo += 1\n",
    "            case 4:\n",
    "                pass\n",
    "            case _:\n",
    "                pass\n",
    "\n",
    "        \n",
    "        # De las acciones posibles, si una es el punto final, reducir el costo\n",
    "        for action in actions_next:\n",
    "            if np.array_equal(action, legend_dict[\"end\"]):\n",
    "                costo -= 15\n",
    "                break\n",
    "\n",
    "\n",
    "        return costo\n",
    "        \n",
    "\n",
    "    def goalTest(self, current_pos: tuple[int, int]) -> bool:\n",
    "        \"\"\"\n",
    "        Dada una posición, regresa si es el punto final\n",
    "        \"\"\"\n",
    "        return np.array_equal(self.maze[current_pos], self.legend[\"end\"])\n",
    "    \n",
    "    def pathCost(self, path: list[tuple[int, int]]) -> int:\n",
    "        \"\"\"\n",
    "        Dado un camino, regresa el costo total de recorrerlo\n",
    "        \"\"\"\n",
    "        costo = 0\n",
    "        for pos in path:\n",
    "            costo += self.cost(pos)\n",
    "        return costo\n"
   ]
  },
  {
   "cell_type": "code",
   "execution_count": 50,
   "metadata": {},
   "outputs": [
    {
     "name": "stdout",
     "output_type": "stream",
     "text": [
      "SolveMaze(maze=(59, 59, 3), starting_point=(49, 48))\n",
      "[(48, 48), (49, 47)]\n"
     ]
    }
   ],
   "source": [
    "maze = SolveMaze(imagen_np)\n",
    "print(maze)\n",
    "print(maze.actions(maze.starting_point))"
   ]
  },
  {
   "cell_type": "code",
   "execution_count": 55,
   "metadata": {},
   "outputs": [
    {
     "name": "stdout",
     "output_type": "stream",
     "text": [
      "\n",
      "Goal found!\n",
      "\n",
      "[(49, 48), (49, 47), (50, 47), (51, 47), (52, 47), (53, 47), (54, 47), (54, 46), (54, 45), (54, 44), (54, 43), (54, 42), (54, 41), (54, 40), (54, 39), (54, 38), (54, 37), (54, 36), (54, 35), (54, 34), (54, 33), (54, 32), (54, 31), (54, 30), (54, 29), (54, 28), (54, 27), (54, 26), (54, 25), (54, 24), (54, 23), (54, 22), (54, 21), (54, 20), (54, 19), (54, 18), (54, 17), (54, 16), (54, 15), (54, 14), (54, 13), (54, 12), (54, 11), (54, 10), (54, 9), (54, 8), (54, 7), (54, 6), (54, 5), (54, 4), (53, 4), (52, 4), (51, 4), (50, 4), (50, 3), (49, 3), (48, 3), (47, 3), (46, 3), (45, 3), (44, 3), (43, 3), (42, 3), (41, 3), (40, 3), (39, 3), (38, 3), (37, 3), (36, 3), (35, 3), (34, 3), (33, 3), (32, 3), (31, 3), (30, 3), (29, 3), (28, 3), (27, 3), (26, 3), (25, 3), (24, 3), (23, 3), (22, 3), (21, 3), (20, 3), (19, 3), (18, 3), (17, 3), (16, 3), (15, 3), (14, 3), (13, 3), (12, 3), (11, 3), (10, 3), (9, 3), (8, 3), (7, 3)]\n"
     ]
    }
   ],
   "source": [
    "from collections import deque\n",
    "\n",
    "def breadthFirstSearch(problem: SolveMaze) -> list[tuple[int, int]]:\n",
    "    \"\"\"\n",
    "    Realiza una búsqueda en amplitud para encontrar el camino más corto\n",
    "    \"\"\"\n",
    "    start = problem.starting_point\n",
    "    if problem.goalTest(start):\n",
    "        return start\n",
    "    frontier = deque([(start, [start])])\n",
    "    explored = set()\n",
    "    while frontier:\n",
    "        current_pos, path = frontier.popleft()  # Cola\n",
    "        \n",
    "        if problem.goalTest(current_pos):\n",
    "            print(\"\\nGoal found!\\n\")\n",
    "            return path\n",
    "        \n",
    "        if current_pos in explored:\n",
    "            continue\n",
    "        \n",
    "        explored.add(current_pos)\n",
    "        \n",
    "        for action in problem.actions(current_pos):\n",
    "            if action not in explored and action not in frontier:\n",
    "                frontier.append((action, path + [action]))\n",
    "    return None\n",
    "\n",
    "path_bfs = breadthFirstSearch(maze)\n",
    "print(path_bfs)"
   ]
  },
  {
   "cell_type": "code",
   "execution_count": 56,
   "metadata": {},
   "outputs": [],
   "source": [
    "def drawPath(maze: np.array, path: list[tuple[int, int]]) -> np.array:\n",
    "    \"\"\"\n",
    "    Dado un laberinto y un camino, dibuja el camino en el laberinto\n",
    "    \"\"\"\n",
    "    maze_with_path = maze.copy()\n",
    "    for pos in path:\n",
    "        y, x = pos\n",
    "        maze_with_path[y, x] = np.array([0, 0, 255])  # blue\n",
    "    return maze_with_path\n",
    "\n",
    "maze_with_path_bfs = drawPath(imagen_np, path_bfs)\n",
    "\n",
    "maze_with_path_bfs = Image.fromarray(maze_with_path_bfs)\n",
    "\n",
    "maze_with_path_bfs.show() # Mostrar la imagen"
   ]
  },
  {
   "cell_type": "code",
   "execution_count": 60,
   "metadata": {},
   "outputs": [
    {
     "name": "stdout",
     "output_type": "stream",
     "text": [
      "\n",
      "Goal found!\n",
      "\n",
      "[(49, 48), (49, 47), (49, 46), (49, 45), (49, 44), (49, 43), (49, 42), (49, 41), (49, 40), (49, 39), (49, 38), (49, 37), (49, 36), (49, 35), (49, 34), (49, 33), (49, 32), (49, 31), (49, 30), (49, 29), (49, 28), (49, 27), (49, 26), (49, 25), (49, 24), (49, 23), (49, 22), (49, 21), (49, 20), (49, 19), (49, 18), (49, 17), (49, 16), (49, 15), (49, 14), (49, 13), (49, 12), (49, 11), (50, 11), (50, 12), (50, 13), (50, 14), (50, 15), (50, 16), (50, 17), (50, 18), (50, 19), (50, 20), (50, 21), (50, 22), (50, 23), (50, 24), (50, 25), (50, 26), (50, 27), (50, 28), (50, 29), (50, 30), (50, 31), (50, 32), (50, 33), (50, 34), (50, 35), (50, 36), (50, 37), (50, 38), (50, 39), (50, 40), (50, 41), (50, 42), (50, 43), (50, 44), (50, 45), (50, 46), (50, 47), (51, 47), (51, 46), (51, 45), (51, 44), (51, 43), (51, 42), (51, 41), (51, 40), (51, 39), (51, 38), (51, 37), (51, 36), (51, 35), (51, 34), (51, 33), (51, 32), (51, 31), (51, 30), (51, 29), (51, 28), (51, 27), (51, 26), (51, 25), (51, 24), (51, 23), (51, 22), (51, 21), (51, 20), (51, 19), (51, 18), (51, 17), (51, 16), (51, 15), (51, 14), (51, 13), (51, 12), (51, 11), (51, 10), (51, 9), (52, 9), (52, 10), (52, 11), (52, 12), (52, 13), (52, 14), (52, 15), (52, 16), (52, 17), (52, 18), (52, 19), (52, 20), (52, 21), (52, 22), (52, 23), (52, 24), (52, 25), (52, 26), (52, 27), (52, 28), (52, 29), (52, 30), (52, 31), (52, 32), (52, 33), (52, 34), (52, 35), (52, 36), (52, 37), (52, 38), (52, 39), (52, 40), (52, 41), (52, 42), (52, 43), (52, 44), (52, 45), (52, 46), (52, 47), (53, 47), (53, 48), (53, 49), (53, 50), (53, 51), (53, 52), (53, 53), (53, 54), (53, 55), (53, 56), (54, 56), (54, 55), (54, 54), (54, 53), (54, 52), (54, 51), (54, 50), (54, 49), (54, 48), (54, 47), (54, 46), (54, 45), (54, 44), (54, 43), (54, 42), (54, 41), (54, 40), (54, 39), (54, 38), (54, 37), (54, 36), (54, 35), (54, 34), (54, 33), (54, 32), (54, 31), (54, 30), (54, 29), (54, 28), (54, 27), (54, 26), (54, 25), (54, 24), (54, 23), (54, 22), (54, 21), (54, 20), (54, 19), (54, 18), (54, 17), (54, 16), (54, 15), (54, 14), (54, 13), (54, 12), (54, 11), (54, 10), (54, 9), (54, 8), (54, 7), (54, 6), (54, 5), (54, 4), (54, 3), (54, 2), (54, 1), (53, 1), (53, 2), (53, 3), (53, 4), (52, 4), (52, 3), (52, 2), (52, 1), (51, 1), (51, 2), (51, 3), (51, 4), (50, 4), (50, 3), (50, 2), (50, 1), (49, 1), (49, 2), (49, 3), (48, 3), (48, 2), (48, 1), (47, 1), (47, 2), (47, 3), (46, 3), (46, 2), (46, 1), (45, 1), (45, 2), (45, 3), (44, 3), (44, 2), (44, 1), (43, 1), (43, 2), (43, 3), (42, 3), (42, 2), (42, 1), (41, 1), (41, 2), (41, 3), (40, 3), (40, 4), (39, 4), (39, 5), (38, 5), (38, 6), (37, 6), (37, 7), (37, 8), (36, 8), (36, 9), (35, 9), (35, 10), (34, 10), (34, 11), (33, 11), (33, 12), (32, 12), (32, 13), (31, 13), (31, 14), (30, 14), (30, 15), (29, 15), (29, 16), (28, 16), (28, 17), (27, 17), (27, 18), (27, 19), (26, 19), (26, 20), (25, 20), (25, 21), (24, 21), (24, 22), (23, 22), (23, 23), (22, 23), (22, 24), (21, 24), (21, 25), (20, 25), (20, 26), (19, 26), (19, 27), (18, 27), (18, 28), (18, 29), (17, 29), (17, 30), (16, 30), (16, 31), (15, 31), (15, 32), (14, 32), (14, 33), (13, 33), (13, 34), (12, 34), (12, 35), (11, 35), (11, 36), (10, 36), (10, 37), (9, 37), (9, 38), (9, 39), (8, 39), (8, 40), (7, 40), (7, 41), (6, 41), (6, 42), (5, 42), (5, 43), (4, 43), (4, 44), (4, 45), (4, 46), (4, 47), (4, 48), (4, 49), (4, 50), (4, 51), (4, 52), (4, 53), (4, 54), (4, 55), (4, 56), (3, 56), (3, 55), (3, 54), (3, 53), (3, 52), (3, 51), (3, 50), (3, 49), (3, 48), (3, 47), (3, 46), (3, 45), (3, 44), (3, 43), (3, 42), (3, 41), (3, 40), (3, 39), (3, 38), (3, 37), (3, 36), (3, 35), (3, 34), (3, 33), (3, 32), (3, 31), (3, 30), (3, 29), (3, 28), (3, 27), (3, 26), (3, 25), (3, 24), (3, 23), (3, 22), (3, 21), (3, 20), (3, 19), (3, 18), (3, 17), (3, 16), (3, 15), (3, 14), (3, 13), (3, 12), (3, 11), (3, 10), (3, 9), (3, 8), (3, 7), (3, 6), (4, 6)]\n"
     ]
    }
   ],
   "source": [
    "from collections import deque as queue\n",
    "\n",
    "def depth_first_search(maze: SolveMaze) -> list[tuple[int, int]]:\n",
    "    visited = set()\n",
    "    stack = queue([(maze.starting_point, [maze.starting_point])]) #empezamos en el punto de inicio\n",
    "\n",
    "    if maze.goalTest(maze.starting_point):\n",
    "        return maze.starting_point\n",
    "    \n",
    "    while stack:\n",
    "        # agarrar el primer elemento de la pila\n",
    "        current, path = stack.pop()  # Queue\n",
    "\n",
    "        if maze.goalTest(current):\n",
    "            print(\"\\nGoal found!\\n\")\n",
    "            return path\n",
    "        \n",
    "        if current in visited:\n",
    "            continue\n",
    "\n",
    "        visited.add(current)\n",
    "        for action in maze.actions(current): #obtenemos las acciones posibles\n",
    "            stack.append((action, path + [action])) #agregamos las acciones a la pila\n",
    "    return None \n",
    "    \n",
    "path_dfs = depth_first_search(maze)\n",
    "print(path_dfs)"
   ]
  },
  {
   "cell_type": "code",
   "execution_count": 61,
   "metadata": {},
   "outputs": [],
   "source": [
    "maze_with_path_dfs = drawPath(imagen_np, path_dfs)\n",
    "maze_with_path_dfs = Image.fromarray(maze_with_path_dfs)\n",
    "maze_with_path_dfs.show() # Mostrar la imagen"
   ]
  }
 ],
 "metadata": {
  "kernelspec": {
   "display_name": "Python 3",
   "language": "python",
   "name": "python3"
  },
  "language_info": {
   "codemirror_mode": {
    "name": "ipython",
    "version": 3
   },
   "file_extension": ".py",
   "mimetype": "text/x-python",
   "name": "python",
   "nbconvert_exporter": "python",
   "pygments_lexer": "ipython3",
   "version": "3.12.0"
  },
  "orig_nbformat": 4
 },
 "nbformat": 4,
 "nbformat_minor": 2
}
