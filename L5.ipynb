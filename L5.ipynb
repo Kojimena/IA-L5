{
 "cells": [
  {
   "cell_type": "markdown",
   "metadata": {},
   "source": [
    "## Inteligencia Artificial\n",
    "## - Laboratorio 5 -\n",
    "Autores:\n",
    "- Mark Albrand \n",
    "- Jimena Hernández"
   ]
  },
  {
   "cell_type": "markdown",
   "metadata": {},
   "source": [
    "### Task 1 - Graph-Search"
   ]
  },
  {
   "cell_type": "code",
   "execution_count": 1,
   "metadata": {},
   "outputs": [],
   "source": [
    "import matplotlib.pylab as plt\n",
    "import numpy as np"
   ]
  },
  {
   "cell_type": "markdown",
   "metadata": {},
   "source": [
    "### Task 1.1 - Discretización de la imagen"
   ]
  },
  {
   "cell_type": "code",
   "execution_count": 2,
   "metadata": {},
   "outputs": [
    {
     "name": "stdout",
     "output_type": "stream",
     "text": [
      "Alto: 582, Ancho: 582\n",
      "Nuevo alto: 59, Nuevo ancho: 59\n"
     ]
    }
   ],
   "source": [
    "from PIL import Image\n",
    "import numpy as np\n",
    "def convertir_a_discreto(imagen_path, tamano_bloque):\n",
    "    # Cargar la imagen\n",
    "    imagen = Image.open(imagen_path)\n",
    "    imagen_np = np.array(imagen)\n",
    "    \n",
    "    # Dimensiones de la imagen\n",
    "    alto, ancho, _ = imagen_np.shape\n",
    "    \n",
    "    nuevo_alto = (alto // tamano_bloque) + 1\n",
    "    nuevo_ancho = (ancho // tamano_bloque) + 1\n",
    "\n",
    "    print(f'Alto: {alto}, Ancho: {ancho}')\n",
    "    print(f'Nuevo alto: {nuevo_alto}, Nuevo ancho: {nuevo_ancho}')\n",
    "\n",
    "    # Redimensionar la imagen\n",
    "    imagen_salida = np.zeros((nuevo_alto, nuevo_ancho, 3), dtype=np.uint8)\n",
    "    \n",
    "    for y in range(0, alto, tamano_bloque):\n",
    "        for x in range(0, ancho, tamano_bloque):\n",
    "            new_y = y // tamano_bloque\n",
    "            new_x = x // tamano_bloque\n",
    "            # Extraer el bloque\n",
    "            bloque = imagen_np[y:y+tamano_bloque, x:x+tamano_bloque]\n",
    "            \n",
    "            # Calcular el color promedio del bloque\n",
    "            color_promedio = bloque.mean(axis=(0,1)).astype(int)\n",
    "            #convertir los colores difuminados al color mas predominante\n",
    "            #verde\n",
    "            if color_promedio[1] > color_promedio[0] and color_promedio[1] > color_promedio[2]:\n",
    "                color_promedio[1] = 255\n",
    "                color_promedio[0] = 0\n",
    "                color_promedio[2] = 0 \n",
    "            #rojo\n",
    "            elif color_promedio[0] > color_promedio[1] and color_promedio[0] > color_promedio[2]:\n",
    "                color_promedio[0] = 255\n",
    "                color_promedio[1] = 0\n",
    "                color_promedio[2] = 0\n",
    "\n",
    "            #grises\n",
    "            elif color_promedio[0] == color_promedio[1] and color_promedio[0] == color_promedio[2] and color_promedio[0]< 255:\n",
    "                color_promedio[0] = 0\n",
    "                color_promedio[1] = 0\n",
    "                color_promedio[2] = 0\n",
    "            \n",
    "            # Asignar el color promedio al bloque correspondiente en la imagen de salida\n",
    "            imagen_salida[new_y, new_x] = color_promedio\n",
    "    \n",
    "    imagen_discreta = Image.fromarray(imagen_salida)\n",
    "    return imagen_discreta\n",
    "\n",
    "ruta_imagen = 'images/1.bmp' \n",
    "tamano_bloque = 10 #bloques de 14x14\n",
    "imagen_discreta = convertir_a_discreto(ruta_imagen, tamano_bloque)\n",
    "imagen_discreta.show() # Mostrar la imagen\n"
   ]
  },
  {
   "cell_type": "markdown",
   "metadata": {},
   "source": [
    "Las áreas blancas representan caminos libres\n",
    "Las áreas negras representan paredes sobre las cuales no se puede pasar\n",
    "Las áreas verdes representan la meta (goalTest positivos) (pueden ser varios)\n",
    "La área roja representa el punto de inicio (solo podrá haber uno)"
   ]
  },
  {
   "cell_type": "code",
   "execution_count": 3,
   "metadata": {},
   "outputs": [
    {
     "name": "stdout",
     "output_type": "stream",
     "text": [
      "<class 'PIL.Image.Image'>\n"
     ]
    }
   ],
   "source": [
    "print(type(imagen_discreta))"
   ]
  },
  {
   "cell_type": "code",
   "execution_count": 4,
   "metadata": {},
   "outputs": [
    {
     "name": "stdout",
     "output_type": "stream",
     "text": [
      "(59, 59, 3)\n"
     ]
    }
   ],
   "source": [
    "# Pasar la imagen a un arreglo de numpy\n",
    "imagen_np = np.array(imagen_discreta)\n",
    "print(imagen_np.shape)\n",
    "\n",
    "height, width, channels = imagen_np.shape"
   ]
  },
  {
   "cell_type": "code",
   "execution_count": 5,
   "metadata": {},
   "outputs": [
    {
     "name": "stdout",
     "output_type": "stream",
     "text": [
      "[[[  0   0   0]\n",
      "  [  0   0   0]\n",
      "  [  0   0   0]\n",
      "  ...\n",
      "  [  0   0   0]\n",
      "  [  0   0   0]\n",
      "  [  0   0   0]]\n",
      "\n",
      " [[  0   0   0]\n",
      "  [255 255 255]\n",
      "  [255 255 255]\n",
      "  ...\n",
      "  [255 255 255]\n",
      "  [  0   0   0]\n",
      "  [  0   0   0]]\n",
      "\n",
      " [[  0   0   0]\n",
      "  [255 255 255]\n",
      "  [255 255 255]\n",
      "  ...\n",
      "  [255 255 255]\n",
      "  [  0   0   0]\n",
      "  [  0   0   0]]\n",
      "\n",
      " ...\n",
      "\n",
      " [[  0   0   0]\n",
      "  [255 255 255]\n",
      "  [255 255 255]\n",
      "  ...\n",
      "  [255 255 255]\n",
      "  [  0   0   0]\n",
      "  [  0   0   0]]\n",
      "\n",
      " [[  0   0   0]\n",
      "  [  0   0   0]\n",
      "  [  0   0   0]\n",
      "  ...\n",
      "  [  0   0   0]\n",
      "  [  0   0   0]\n",
      "  [  0   0   0]]\n",
      "\n",
      " [[  0   0   0]\n",
      "  [  0   0   0]\n",
      "  [  0   0   0]\n",
      "  ...\n",
      "  [  0   0   0]\n",
      "  [  0   0   0]\n",
      "  [  0   0   0]]]\n"
     ]
    }
   ],
   "source": [
    "print(imagen_np)"
   ]
  },
  {
   "cell_type": "markdown",
   "metadata": {},
   "source": [
    "### Task 1.2 - Framework de Problemas\n",
    "\n",
    "Puede entenderse como un framework con los siguientes\n",
    "elementos\n",
    "- ○ Estado inicial (s_start) CHEQUE\n",
    "- ○ Función de acción actions(s) → {a 1, a 2,...,a n} CHEQUE\n",
    "- ○ Función de costo de paso cost(s,a,s’) → R CHEQUE\n",
    "-    Estado actual, acción y estado siguiente -> Cuánto cuesta hacer el moviemiento\n",
    "- ○ Función de resultados results(s,a) → s’\n",
    "-    Se usa después de actions, dice a que estado se llega usando lo que dio actions\n",
    "- ○ Función de goalTest(s) → {True, False}\n",
    "    Se pasa de cada config nueva (estado actual), si es la meta o no\n",
    "\n",
    "● Además, algunas veces es útil agregar\n",
    "- ○ Función de costo de ruta pathCost(s 1, s 2,...,s n) → R\n",
    "■ s i = results(s i-1,a i )"
   ]
  },
  {
   "cell_type": "code",
   "execution_count": 6,
   "metadata": {},
   "outputs": [],
   "source": [
    "from typing import TypedDict\n",
    "\n",
    "class legend_dict(TypedDict):\n",
    "    \"\"\"\n",
    "    Define el tipo de dato para el diccionario de leyenda\n",
    "    Los numpy arrays son de 3 elementos, representando los colores RGB\n",
    "    \"\"\"\n",
    "    wall: np.array\n",
    "    path: np.array\n",
    "    start: np.array\n",
    "    end: np.array\n",
    "\n",
    "\n",
    "class SolveMaze:\n",
    "    maze: np.array\n",
    "    starting_point: tuple[int, int]  # (y, x)\n",
    "\n",
    "    legend: legend_dict = {\n",
    "        \"wall\": np.array([0, 0, 0]),  # black\n",
    "        \"path\": np.array([255, 255, 255]),  # white\n",
    "        \"start\": np.array([255, 0, 0]),  # red\n",
    "        \"end\": np.array([0, 255, 0])  # green\n",
    "    }\n",
    "\n",
    "    def __init__(self, maze: np.array):\n",
    "        if maze.ndim != 3:\n",
    "            raise ValueError(\"Maze debe ser un arreglo tridimensional\")\n",
    "\n",
    "        self.maze = maze\n",
    "        self.starting_point = self._findStartinPoint()\n",
    "\n",
    "    \n",
    "    def _findStartinPoint(self) -> tuple[int, int]:\n",
    "        for y in range(0, height, 1):\n",
    "            for x in range(0, width, 1):\n",
    "                if np.array_equal(self.maze[y, x], self.legend[\"start\"]):  # Buscar el punto de inicio, definido por el color en legend\n",
    "                    return (y, x)\n",
    "        return None\n",
    "    \n",
    "    def __str__(self) -> str:\n",
    "        return f\"SolveMaze(maze={self.maze.shape}, starting_point={self.starting_point})\"\n",
    "    \n",
    "    def actions(self, current_pos: tuple[int, int]) -> list[tuple[int, int]]:\n",
    "        \"\"\"\n",
    "        Dada una posición, regresa las posiciones a las que se puede mover\n",
    "        \"\"\"\n",
    "        y, x = current_pos\n",
    "        possible_actions = []\n",
    "        if y > 0 and np.array_equal(self.maze[y-1, x], self.legend[\"path\"]):\n",
    "            # Si no estamos en el borde superior y la celda de arriba es un camino\n",
    "            # Arriba\n",
    "            possible_actions.append((y-1, x))\n",
    "        if y < height-1 and np.array_equal(self.maze[y+1, x], self.legend[\"path\"]):\n",
    "            # Si no estamos en el borde inferior y la celda de abajo es un camino\n",
    "            # Abajo\n",
    "            possible_actions.append((y+1, x))\n",
    "        if x > 0 and np.array_equal(self.maze[y, x-1], self.legend[\"path\"]):\n",
    "            # Si no estamos en el borde izquierdo y la celda de la izquierda es un camino\n",
    "            # Izquierda\n",
    "            possible_actions.append((y, x-1))\n",
    "        if x < width-1 and np.array_equal(self.maze[y, x+1], self.legend[\"path\"]):\n",
    "            # Si no estamos en el borde derecho y la celda de la derecha es un camino\n",
    "            # Derecha\n",
    "            possible_actions.append((y, x+1))\n",
    "        \n",
    "        return possible_actions\n",
    "    \n",
    "    def pathCost(self, next_pos: tuple[int, int]) -> int:\n",
    "        \"\"\"\n",
    "        Dada una posición y una acción, regresa el costo de llegar a esa posición\n",
    "        \"\"\"\n",
    "        actions_next = self.actions(next_pos)\n",
    "        costo = 1\n",
    "\n",
    "        # Cantidad de acciones posibles\n",
    "        match len(actions_next):\n",
    "            case 0:\n",
    "                costo += 999\n",
    "            case 1:\n",
    "                costo += 3\n",
    "            case 2:\n",
    "                costo += 2\n",
    "            case 3:\n",
    "                costo += 1\n",
    "            case 4:\n",
    "                pass\n",
    "            case _:\n",
    "                pass\n",
    "\n",
    "        \n",
    "        # De las acciones posibles, si una es el punto final, reducir el costo\n",
    "        for action in actions_next:\n",
    "            if np.array_equal(action, legend_dict[\"end\"]):\n",
    "                costo -= 15\n",
    "                break\n",
    "\n",
    "\n",
    "        return costo\n",
    "        \n",
    "\n",
    "    def goalTest(self, current_pos: tuple[int, int]) -> bool:\n",
    "        \"\"\"\n",
    "        Dada una posición, regresa si es el punto final\n",
    "        \"\"\"\n",
    "        return np.array_equal(self.maze[current_pos], self.legend[\"end\"])\n"
   ]
  },
  {
   "cell_type": "code",
   "execution_count": 9,
   "metadata": {},
   "outputs": [
    {
     "name": "stdout",
     "output_type": "stream",
     "text": [
      "SolveMaze(maze=(59, 59, 3), starting_point=(49, 48))\n",
      "[(48, 48), (49, 47)]\n"
     ]
    }
   ],
   "source": [
    "path = SolveMaze(imagen_np)\n",
    "print(path)\n",
    "print(path.actions(path.starting_point))"
   ]
  },
  {
   "cell_type": "code",
   "execution_count": null,
   "metadata": {},
   "outputs": [],
   "source": []
  },
  {
   "cell_type": "code",
   "execution_count": null,
   "metadata": {},
   "outputs": [],
   "source": []
  }
 ],
 "metadata": {
  "kernelspec": {
   "display_name": "Python 3",
   "language": "python",
   "name": "python3"
  },
  "language_info": {
   "codemirror_mode": {
    "name": "ipython",
    "version": 3
   },
   "file_extension": ".py",
   "mimetype": "text/x-python",
   "name": "python",
   "nbconvert_exporter": "python",
   "pygments_lexer": "ipython3",
   "version": "3.11.4"
  },
  "orig_nbformat": 4
 },
 "nbformat": 4,
 "nbformat_minor": 2
}
