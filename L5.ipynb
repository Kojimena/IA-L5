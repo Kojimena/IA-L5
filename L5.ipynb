{
 "cells": [
  {
   "cell_type": "markdown",
   "metadata": {},
   "source": [
    "## Inteligencia Artificial\n",
    "## - Laboratorio 5 -\n",
    "Autores:\n",
    "- Mark Albrand \n",
    "- Jimena Hernández"
   ]
  },
  {
   "cell_type": "markdown",
   "metadata": {},
   "source": [
    "### Task 1 - Graph-Search"
   ]
  },
  {
   "cell_type": "code",
   "execution_count": 141,
   "metadata": {},
   "outputs": [],
   "source": [
    "import matplotlib.pylab as plt\n",
    "import numpy as np"
   ]
  },
  {
   "cell_type": "markdown",
   "metadata": {},
   "source": [
    "### Task 1.1 - Discretización de la imagen"
   ]
  },
  {
   "cell_type": "code",
   "execution_count": 142,
   "metadata": {},
   "outputs": [],
   "source": [
    "from PIL import Image\n",
    "import numpy as np\n",
    "def convertir_a_discreto(imagen_path, tamano_bloque):\n",
    "    # Cargar la imagen\n",
    "    imagen = Image.open(imagen_path)\n",
    "    imagen_np = np.array(imagen)\n",
    "    \n",
    "    # Dimensiones de la imagen\n",
    "    alto, ancho, _ = imagen_np.shape\n",
    "    \n",
    "    nuevo_alto = (alto // tamano_bloque) + 1\n",
    "    nuevo_ancho = (ancho // tamano_bloque) + 1\n",
    "\n",
    "    print(f'Alto: {alto}, Ancho: {ancho}')\n",
    "    print(f'Nuevo alto: {nuevo_alto}, Nuevo ancho: {nuevo_ancho}')\n",
    "\n",
    "    # Redimensionar la imagen\n",
    "    imagen_salida = np.zeros((nuevo_alto, nuevo_ancho, 3), dtype=np.uint8)\n",
    "    \n",
    "    for y in range(0, alto, tamano_bloque):\n",
    "        for x in range(0, ancho, tamano_bloque):\n",
    "            new_y = y // tamano_bloque\n",
    "            new_x = x // tamano_bloque\n",
    "            # Extraer el bloque\n",
    "            bloque = imagen_np[y:y+tamano_bloque, x:x+tamano_bloque]\n",
    "            \n",
    "            # Calcular el color promedio del bloque\n",
    "            color_promedio = bloque.mean(axis=(0,1)).astype(int)\n",
    "            #convertir los colores difuminados al color mas predominante\n",
    "            #verde\n",
    "            if color_promedio[1] > color_promedio[0] and color_promedio[1] > color_promedio[2]:\n",
    "                color_promedio[1] = 255\n",
    "                color_promedio[0] = 0\n",
    "                color_promedio[2] = 0 \n",
    "            #rojo\n",
    "            elif color_promedio[0] > color_promedio[1] and color_promedio[0] > color_promedio[2]:\n",
    "                color_promedio[0] = 255\n",
    "                color_promedio[1] = 0\n",
    "                color_promedio[2] = 0\n",
    "\n",
    "            #grises\n",
    "            elif color_promedio[0] == color_promedio[1] and color_promedio[0] == color_promedio[2] and color_promedio[0]< 255:\n",
    "                color_promedio[0] = 0\n",
    "                color_promedio[1] = 0\n",
    "                color_promedio[2] = 0\n",
    "\n",
    "            else:\n",
    "                color_promedio[0] = 255\n",
    "                color_promedio[1] = 255\n",
    "                color_promedio[2] = 255\n",
    "            \n",
    "            # Asignar el color promedio al bloque correspondiente en la imagen de salida\n",
    "            imagen_salida[new_y, new_x] = color_promedio\n",
    "    \n",
    "    imagen_discreta = Image.fromarray(imagen_salida)\n",
    "    return imagen_discreta"
   ]
  },
  {
   "cell_type": "markdown",
   "metadata": {},
   "source": [
    "Las áreas blancas representan caminos libres\n",
    "Las áreas negras representan paredes sobre las cuales no se puede pasar\n",
    "Las áreas verdes representan la meta (goalTest positivos) (pueden ser varios)\n",
    "La área roja representa el punto de inicio (solo podrá haber uno)"
   ]
  },
  {
   "cell_type": "markdown",
   "metadata": {},
   "source": [
    "### Task 1.2 - Framework de Problemas\n",
    "\n",
    "Puede entenderse como un framework con los siguientes\n",
    "elementos\n",
    "- ○ Estado inicial (s_start) CHEQUE\n",
    "- ○ Función de acción actions(s) → {a 1, a 2,...,a n} CHEQUE\n",
    "- ○ Función de costo de paso cost(s,a,s’) → R CHEQUE\n",
    "-    Estado actual, acción y estado siguiente -> Cuánto cuesta hacer el moviemiento\n",
    "- ○ Función de resultados results(s,a) → s’\n",
    "-    Se usa después de actions, dice a que estado se llega usando lo que dio actions\n",
    "- ○ Función de goalTest(s) → {True, False}\n",
    "    Se pasa de cada config nueva (estado actual), si es la meta o no\n",
    "\n",
    "● Además, algunas veces es útil agregar\n",
    "- ○ Función de costo de ruta pathCost(s 1, s 2,...,s n) → R\n",
    "■ s i = results(s i-1,a i )"
   ]
  },
  {
   "cell_type": "code",
   "execution_count": 241,
   "metadata": {},
   "outputs": [],
   "source": [
    "from typing import TypedDict\n",
    "\n",
    "class legend_dict(TypedDict):\n",
    "    \"\"\"\n",
    "    Define el tipo de dato para el diccionario de leyenda\n",
    "    Los numpy arrays son de 3 elementos, representando los colores RGB\n",
    "    \"\"\"\n",
    "    wall: np.array\n",
    "    path: np.array\n",
    "    start: np.array\n",
    "    end: np.array\n",
    "\n",
    "\n",
    "class SolveMaze:\n",
    "    maze: np.array\n",
    "    starting_point: tuple[int, int]  # (y, x)\n",
    "    goal: list[tuple[int, int]] = []  # Lista de puntos finales\n",
    "\n",
    "    legend: legend_dict = {\n",
    "        \"wall\": np.array([0, 0, 0]),  # black\n",
    "        \"path\": np.array([255, 255, 255]),  # white\n",
    "        \"start\": np.array([255, 0, 0]),  # red\n",
    "        \"end\": np.array([0, 255, 0])  # green\n",
    "    }\n",
    "\n",
    "    def __init__(self, maze: np.array):\n",
    "        if maze.ndim != 3:\n",
    "            raise ValueError(\"Maze debe ser un arreglo tridimensional\")\n",
    "\n",
    "        self.maze = maze\n",
    "        self.starting_point = self._findStartinPoint()\n",
    "        self.goal = self._findEndPoints()\n",
    "\n",
    "    \n",
    "    def _findStartinPoint(self) -> tuple[int, int]:\n",
    "        width, height, _ = self.maze.shape\n",
    "        sp = None\n",
    "        acts = -1\n",
    "        for y in range(0, height-1):\n",
    "            for x in range(0, width-1):\n",
    "                if np.array_equal(self.maze[y, x], self.legend[\"start\"]):  # Buscar el punto de inicio, definido por el color en legend\n",
    "                    act = self.actions((y, x))\n",
    "\n",
    "                    if len(act) > acts:\n",
    "                        sp = (y, x)\n",
    "                        acts = len(act)\n",
    "        return sp\n",
    "    \n",
    "    def _findEndPoints(self) -> list[tuple[int, int]]:\n",
    "        width, height, _ = self.maze.shape\n",
    "        end_points = []\n",
    "        for y in range(0, height-1):\n",
    "            for x in range(0, width-1):\n",
    "                if np.array_equal(self.maze[y, x], self.legend[\"end\"]):  # Buscar el punto final, definido por el color en legend\n",
    "                    end_points.append((y, x))\n",
    "\n",
    "        if len(end_points) == 0:\n",
    "            raise ValueError(\"No hay punto final en el laberinto\")\n",
    "        \n",
    "        return end_points\n",
    "    \n",
    "    def __str__(self) -> str:\n",
    "        return f\"SolveMaze(maze={self.maze.shape}, starting_point={self.starting_point})\"\n",
    "    \n",
    "    def actions(self, current_pos: tuple[int, int]) -> list[tuple[int, int]]:\n",
    "        \"\"\"\n",
    "        Dada una posición, regresa las posiciones a las que se puede mover\n",
    "        \"\"\"\n",
    "        y, x = current_pos\n",
    "        possible_actions = []\n",
    "        height, width, _ = self.maze.shape\n",
    "        # Regresar las posiciones a las que se puede mover: Path\n",
    "        if y > 0 and np.array_equal(self.maze[y-1, x], self.legend[\"path\"]):\n",
    "            # Si no estamos en el borde superior y la celda de arriba es un camino\n",
    "            # Arriba\n",
    "            possible_actions.append((y-1, x))\n",
    "        if y < height-1 and np.array_equal(self.maze[y+1, x], self.legend[\"path\"]):\n",
    "            # Si no estamos en el borde inferior y la celda de abajo es un camino\n",
    "            # Abajo\n",
    "            possible_actions.append((y+1, x))\n",
    "        if x > 0 and np.array_equal(self.maze[y, x-1], self.legend[\"path\"]):\n",
    "            # Si no estamos en el borde izquierdo y la celda de la izquierda es un camino\n",
    "            # Izquierda\n",
    "            possible_actions.append((y, x-1))\n",
    "        if x < width-1 and np.array_equal(self.maze[y, x+1], self.legend[\"path\"]):\n",
    "            # Si no estamos en el borde derecho y la celda de la derecha es un camino\n",
    "            # Derecha\n",
    "            possible_actions.append((y, x+1))\n",
    "\n",
    "        # Regresar las posiciones a las que se puede mover: End\n",
    "        if y > 0 and np.array_equal(self.maze[y-1, x], self.legend[\"end\"]):\n",
    "            # Si no estamos en el borde superior y la celda de arriba es el punto final\n",
    "            # Arriba\n",
    "            possible_actions.append((y-1, x))\n",
    "        if y < height-1 and np.array_equal(self.maze[y+1, x], self.legend[\"end\"]):\n",
    "            # Si no estamos en el borde inferior y la celda de abajo es el punto final\n",
    "            # Abajo\n",
    "            possible_actions.append((y+1, x))\n",
    "        if x > 0 and np.array_equal(self.maze[y, x-1], self.legend[\"end\"]):\n",
    "            # Si no estamos en el borde izquierdo y la celda de la izquierda es el punto final\n",
    "            # Izquierda\n",
    "            possible_actions.append((y, x-1))\n",
    "        if x < width-1 and np.array_equal(self.maze[y, x+1], self.legend[\"end\"]):\n",
    "            # Si no estamos en el borde derecho y la celda de la derecha es el punto final\n",
    "            # Derecha\n",
    "            possible_actions.append((y, x+1))\n",
    "        \n",
    "        return possible_actions\n",
    "    \n",
    "    def cost(self, next_pos: tuple[int, int]) -> int:\n",
    "        \"\"\"\n",
    "        Dada una posición y una acción, regresa el costo de llegar a esa posición\n",
    "        \"\"\"\n",
    "        actions_next = self.actions(next_pos)\n",
    "        costo = 1\n",
    "\n",
    "        # Cantidad de acciones posibles\n",
    "        match len(actions_next):\n",
    "            case 0:\n",
    "                costo += 9999\n",
    "            case 1:\n",
    "                costo += 3\n",
    "            case 2:\n",
    "                costo += 2\n",
    "            case 3:\n",
    "                costo += 1\n",
    "            case 4:\n",
    "                pass\n",
    "            case _:\n",
    "                pass\n",
    "\n",
    "        \n",
    "        # De las acciones posibles, si una es el punto final, reducir el costo\n",
    "        for action in actions_next:\n",
    "            if np.array_equal(action, legend_dict[\"end\"]):\n",
    "                costo -= 15\n",
    "                break\n",
    "\n",
    "        return costo\n",
    "    \n",
    "    def heuristic_manhattan(self, current_pos: tuple[int, int]) -> int:\n",
    "        \"\"\"\n",
    "        Dada una posición, regresa la heurística de llegar a esa posición\n",
    "        \"\"\"\n",
    "        return abs(current_pos[0] - self.goal[0][0]) + abs(current_pos[1] - self.goal[0][1])\n",
    "    \n",
    "    def heuristic_euclidean(self, current_pos: tuple[int, int]) -> int:\n",
    "        \"\"\"\n",
    "        Dada una posición, regresa la heurística de llegar a esa posición\n",
    "        \"\"\"\n",
    "        return np.sqrt((current_pos[0] - self.goal[0][0])**2 + (current_pos[1] - self.goal[0][1])**2)\n",
    "        \n",
    "\n",
    "    def goalTest(self, current_pos: tuple[int, int]) -> bool:\n",
    "        \"\"\"\n",
    "        Dada una posición, regresa si es el punto final\n",
    "        \"\"\"\n",
    "        return np.array_equal(self.maze[current_pos], self.legend[\"end\"])\n",
    "    \n",
    "    def pathCost(self, path: list[tuple[int, int]]) -> int:\n",
    "        \"\"\"\n",
    "        Dado un camino, regresa el costo total de recorrerlo\n",
    "        \"\"\"\n",
    "        costo = 0\n",
    "        for pos in path:\n",
    "            costo += self.cost(pos)\n",
    "        return costo\n"
   ]
  },
  {
   "cell_type": "markdown",
   "metadata": {},
   "source": [
    "### BFS\n",
    "Este algoritmo trabaja, empezando por visitar la posición inicial y agregando sus actions a una cola para posteriormente sacar de la cola cada uno y visitar dichos actions."
   ]
  },
  {
   "cell_type": "code",
   "execution_count": 176,
   "metadata": {},
   "outputs": [],
   "source": [
    "from collections import deque\n",
    "\n",
    "def breadthFirstSearch(problem: SolveMaze) -> list[tuple[int, int]]:\n",
    "    \"\"\"\n",
    "    Realiza una búsqueda en amplitud para encontrar el camino más corto\n",
    "    \"\"\"\n",
    "    start = problem.starting_point\n",
    "    if problem.goalTest(start):\n",
    "        return start\n",
    "    frontier = deque([(start, [start])])\n",
    "    explored = set()\n",
    "    while frontier:\n",
    "        current_pos, path = frontier.popleft()  # Cola\n",
    "        \n",
    "        if problem.goalTest(current_pos):\n",
    "            return path\n",
    "        \n",
    "        if current_pos in explored:\n",
    "            continue\n",
    "        \n",
    "        explored.add(current_pos)\n",
    "        \n",
    "        for action in problem.actions(current_pos):\n",
    "            if action not in explored and action not in frontier:\n",
    "                frontier.append((action, path + [action]))\n",
    "    return None"
   ]
  },
  {
   "cell_type": "code",
   "execution_count": 177,
   "metadata": {},
   "outputs": [],
   "source": [
    "def drawPath(maze: np.array, path: list[tuple[int, int]]) -> np.array:\n",
    "    \"\"\"\n",
    "    Dado un laberinto y un camino, dibuja el camino en el laberinto\n",
    "    \"\"\"\n",
    "    maze_with_path = maze.copy()\n",
    "    for pos in path:\n",
    "        y, x = pos\n",
    "        maze_with_path[y, x] = np.array([0, 0, 255])  # blue\n",
    "    return maze_with_path"
   ]
  },
  {
   "cell_type": "markdown",
   "metadata": {},
   "source": [
    "### DFS \n",
    "Este algoritmo empieza visitando la posición inicial, para dicha posición se colocan los actions de esta en un stack, cada uno de estos actions es visitado junto con sus actions respectivas."
   ]
  },
  {
   "cell_type": "code",
   "execution_count": 178,
   "metadata": {},
   "outputs": [],
   "source": [
    "from collections import deque as queue\n",
    "\n",
    "def depth_first_search(maze: SolveMaze) -> list[tuple[int, int]]:\n",
    "    visited = set()\n",
    "    stack = queue([(maze.starting_point, [maze.starting_point])]) #empezamos en el punto de inicio\n",
    "\n",
    "    if maze.goalTest(maze.starting_point):\n",
    "        return maze.starting_point\n",
    "    \n",
    "    while stack:\n",
    "        # agarrar el primer elemento de la pila\n",
    "        current, path = stack.pop()  # Queue\n",
    "\n",
    "        if maze.goalTest(current):\n",
    "            return path\n",
    "        \n",
    "        if current in visited:\n",
    "            continue\n",
    "\n",
    "        visited.add(current)\n",
    "        for action in maze.actions(current): #obtenemos las acciones posibles\n",
    "            stack.append((action, path + [action])) #agregamos las acciones a la pila\n",
    "    return None "
   ]
  },
  {
   "cell_type": "markdown",
   "metadata": {},
   "source": [
    "### A*\n",
    "Utiliza una heurística para estimar la distancia al objetivo, y realiza una búsqueda eficiente utilizando conjuntos y diccionarios para llevar un seguimiento de los nodos visitados, los costos acumulativos y los puntajes heurísticos. "
   ]
  },
  {
   "cell_type": "markdown",
   "metadata": {},
   "source": [
    "#### Heurísticas\n",
    "Decidimos utilizar heurísticas de aproximación debido a que conlleva menos tiempo de ejecución. \n",
    "Por las que optamos fueron: \n",
    "- La distancia Manhattan, que es la suma de los valores absolutos entre el goal y el punto actual \n",
    "- La distancia euclediana, que es la raiz de la suma de los cuadros de la distancia entre los componentes del punto actual y el de meta."
   ]
  },
  {
   "cell_type": "code",
   "execution_count": 238,
   "metadata": {},
   "outputs": [],
   "source": [
    "import numpy as np\n",
    "from typing import List\n",
    "\n",
    "def a_star(maze_solver: SolveMaze, h: callable):\n",
    "    start = maze_solver.starting_point\n",
    "    goal = maze_solver.goal[0]  # Tomamos solo el primer punto final, podrían ser múltiples\n",
    "\n",
    "    # Inicializamos el conjunto abierto con el nodo inicial\n",
    "    openSet = {start}\n",
    "\n",
    "    # Inicializamos los diccionarios para llevar registro de los puntajes g y f\n",
    "    cameFrom = {}  # Diccionario para reconstruir el camino\n",
    "    gScore = {start: 0}  # Puntaje g de llegar a la celda actual. Se refiere al costo de llegar a la celda actual\n",
    "    fScore = {start: h(start)}  # Puntaje f de llegar a la celda actual. Se refiere al costo total de llegar a la celda actual\n",
    "\n",
    "    while openSet:\n",
    "        # Encontrar el nodo con el menor puntaje f en openSet\n",
    "        current = min(openSet, key=lambda x: fScore.get(x, float('inf')))\n",
    "\n",
    "        if current == goal:\n",
    "            # Si hemos llegado al objetivo, reconstruir el camino y devolverlo\n",
    "            return reconstruct_path(cameFrom, current)\n",
    "\n",
    "        openSet.remove(current)\n",
    "\n",
    "        for neighbor in maze_solver.actions(current):\n",
    "            # Calculamos el puntaje tentativo g para el vecino\n",
    "            tentative_gScore = gScore.get(current, float('inf')) + maze_solver.cost(neighbor)\n",
    "\n",
    "            if tentative_gScore < gScore.get(neighbor, float('inf')):\n",
    "                # Este camino es mejor que cualquier otro anterior. Registramos esto.\n",
    "                cameFrom[neighbor] = current\n",
    "                gScore[neighbor] = tentative_gScore\n",
    "                fScore[neighbor] = gScore[neighbor] + h(neighbor)\n",
    "\n",
    "                if neighbor not in openSet:\n",
    "                    openSet.add(neighbor)\n",
    "\n",
    "    # Si llegamos aquí, significa que no hay camino posible\n",
    "    return \"No se encontró un camino\"\n",
    "\n",
    "# Aquí reconstruimos el camino dada una estructura de datos cameFrom\n",
    "def reconstruct_path(cameFrom, current):\n",
    "    total_path = [current]\n",
    "    while current in cameFrom:\n",
    "        current = cameFrom[current]\n",
    "        total_path.insert(0, current)\n",
    "    return total_path"
   ]
  },
  {
   "cell_type": "markdown",
   "metadata": {},
   "source": [
    "## Imagen 1"
   ]
  },
  {
   "cell_type": "code",
   "execution_count": 247,
   "metadata": {},
   "outputs": [
    {
     "name": "stdout",
     "output_type": "stream",
     "text": [
      "Alto: 582, Ancho: 582\n",
      "Nuevo alto: 59, Nuevo ancho: 59\n"
     ]
    },
    {
     "data": {
      "image/png": "[encoded data removed]",
      "text/plain": [
       "<Figure size 640x480 with 1 Axes>"
      ]
     },
     "metadata": {},
     "output_type": "display_data"
    }
   ],
   "source": [
    "ruta_imagen = 'images/1.bmp' \n",
    "tamano_bloque = 10 #bloques de 14x14\n",
    "imagen_discreta = convertir_a_discreto(ruta_imagen, tamano_bloque)\n",
    "plt.imshow(imagen_discreta)\n",
    "plt.show()"
   ]
  },
  {
   "cell_type": "code",
   "execution_count": 248,
   "metadata": {},
   "outputs": [],
   "source": [
    "imagen_np = np.array(imagen_discreta)"
   ]
  },
  {
   "cell_type": "code",
   "execution_count": 249,
   "metadata": {},
   "outputs": [
    {
     "name": "stdout",
     "output_type": "stream",
     "text": [
      "SolveMaze(maze=(59, 59, 3), starting_point=(49, 48))\n",
      "[(48, 48), (49, 47)]\n"
     ]
    }
   ],
   "source": [
    "maze = SolveMaze(imagen_np)\n",
    "print(maze)\n",
    "print(maze.actions(maze.starting_point))"
   ]
  },
  {
   "cell_type": "markdown",
   "metadata": {},
   "source": [
    "### BFS"
   ]
  },
  {
   "cell_type": "code",
   "execution_count": 250,
   "metadata": {},
   "outputs": [],
   "source": [
    "path_bfs = breadthFirstSearch(maze)"
   ]
  },
  {
   "cell_type": "code",
   "execution_count": 251,
   "metadata": {},
   "outputs": [
    {
     "data": {
      "image/png": "[encoded data removed]",
      "text/plain": [
       "<Figure size 640x480 with 1 Axes>"
      ]
     },
     "metadata": {},
     "output_type": "display_data"
    }
   ],
   "source": [
    "maze_with_path = drawPath(imagen_np, path_bfs)\n",
    "plt.imshow(maze_with_path)\n",
    "plt.show()"
   ]
  },
  {
   "cell_type": "markdown",
   "metadata": {},
   "source": [
    "### DFS"
   ]
  },
  {
   "cell_type": "code",
   "execution_count": 252,
   "metadata": {},
   "outputs": [
    {
     "name": "stdout",
     "output_type": "stream",
     "text": [
      "[(49, 48), (49, 47), (49, 46), (49, 45), (49, 44), (49, 43), (49, 42), (49, 41), (49, 40), (49, 39), (49, 38), (49, 37), (49, 36), (49, 35), (49, 34), (49, 33), (49, 32), (49, 31), (49, 30), (49, 29), (49, 28), (49, 27), (49, 26), (49, 25), (49, 24), (49, 23), (49, 22), (49, 21), (49, 20), (49, 19), (49, 18), (49, 17), (49, 16), (49, 15), (49, 14), (49, 13), (49, 12), (49, 11), (50, 11), (50, 12), (50, 13), (50, 14), (50, 15), (50, 16), (50, 17), (50, 18), (50, 19), (50, 20), (50, 21), (50, 22), (50, 23), (50, 24), (50, 25), (50, 26), (50, 27), (50, 28), (50, 29), (50, 30), (50, 31), (50, 32), (50, 33), (50, 34), (50, 35), (50, 36), (50, 37), (50, 38), (50, 39), (50, 40), (50, 41), (50, 42), (50, 43), (50, 44), (50, 45), (50, 46), (50, 47), (51, 47), (51, 46), (51, 45), (51, 44), (51, 43), (51, 42), (51, 41), (51, 40), (51, 39), (51, 38), (51, 37), (51, 36), (51, 35), (51, 34), (51, 33), (51, 32), (51, 31), (51, 30), (51, 29), (51, 28), (51, 27), (51, 26), (51, 25), (51, 24), (51, 23), (51, 22), (51, 21), (51, 20), (51, 19), (51, 18), (51, 17), (51, 16), (51, 15), (51, 14), (51, 13), (51, 12), (51, 11), (51, 10), (51, 9), (52, 9), (52, 10), (52, 11), (52, 12), (52, 13), (52, 14), (52, 15), (52, 16), (52, 17), (52, 18), (52, 19), (52, 20), (52, 21), (52, 22), (52, 23), (52, 24), (52, 25), (52, 26), (52, 27), (52, 28), (52, 29), (52, 30), (52, 31), (52, 32), (52, 33), (52, 34), (52, 35), (52, 36), (52, 37), (52, 38), (52, 39), (52, 40), (52, 41), (52, 42), (52, 43), (52, 44), (52, 45), (52, 46), (52, 47), (53, 47), (53, 48), (53, 49), (53, 50), (53, 51), (53, 52), (53, 53), (53, 54), (53, 55), (53, 56), (54, 56), (54, 55), (54, 54), (54, 53), (54, 52), (54, 51), (54, 50), (54, 49), (54, 48), (54, 47), (54, 46), (54, 45), (54, 44), (54, 43), (54, 42), (54, 41), (54, 40), (54, 39), (54, 38), (54, 37), (54, 36), (54, 35), (54, 34), (54, 33), (54, 32), (54, 31), (54, 30), (54, 29), (54, 28), (54, 27), (54, 26), (54, 25), (54, 24), (54, 23), (54, 22), (54, 21), (54, 20), (54, 19), (54, 18), (54, 17), (54, 16), (54, 15), (54, 14), (54, 13), (54, 12), (54, 11), (54, 10), (54, 9), (54, 8), (54, 7), (54, 6), (54, 5), (54, 4), (54, 3), (54, 2), (54, 1), (53, 1), (53, 2), (53, 3), (53, 4), (52, 4), (52, 3), (52, 2), (52, 1), (51, 1), (51, 2), (51, 3), (51, 4), (50, 4), (50, 3), (50, 2), (50, 1), (49, 1), (49, 2), (49, 3), (48, 3), (48, 2), (48, 1), (47, 1), (47, 2), (47, 3), (46, 3), (46, 2), (46, 1), (45, 1), (45, 2), (45, 3), (44, 3), (44, 2), (44, 1), (43, 1), (43, 2), (43, 3), (42, 3), (42, 2), (42, 1), (41, 1), (41, 2), (41, 3), (40, 3), (40, 4), (39, 4), (39, 5), (38, 5), (38, 6), (37, 6), (37, 7), (37, 8), (36, 8), (36, 9), (35, 9), (35, 10), (34, 10), (34, 11), (33, 11), (33, 12), (32, 12), (32, 13), (31, 13), (31, 14), (30, 14), (30, 15), (29, 15), (29, 16), (28, 16), (28, 17), (27, 17), (27, 18), (27, 19), (26, 19), (26, 20), (25, 20), (25, 21), (24, 21), (24, 22), (23, 22), (23, 23), (22, 23), (22, 24), (21, 24), (21, 25), (20, 25), (20, 26), (19, 26), (19, 27), (18, 27), (18, 28), (18, 29), (17, 29), (17, 30), (16, 30), (16, 31), (15, 31), (15, 32), (14, 32), (14, 33), (13, 33), (13, 34), (12, 34), (12, 35), (11, 35), (11, 36), (10, 36), (10, 37), (9, 37), (9, 38), (9, 39), (8, 39), (8, 40), (7, 40), (7, 41), (6, 41), (6, 42), (5, 42), (5, 43), (4, 43), (4, 44), (4, 45), (4, 46), (4, 47), (4, 48), (4, 49), (4, 50), (4, 51), (4, 52), (4, 53), (4, 54), (4, 55), (4, 56), (3, 56), (3, 55), (3, 54), (3, 53), (3, 52), (3, 51), (3, 50), (3, 49), (3, 48), (3, 47), (3, 46), (3, 45), (3, 44), (3, 43), (3, 42), (3, 41), (3, 40), (3, 39), (3, 38), (3, 37), (3, 36), (3, 35), (3, 34), (3, 33), (3, 32), (3, 31), (3, 30), (3, 29), (3, 28), (3, 27), (3, 26), (3, 25), (3, 24), (3, 23), (3, 22), (3, 21), (3, 20), (3, 19), (3, 18), (3, 17), (3, 16), (3, 15), (3, 14), (3, 13), (3, 12), (3, 11), (3, 10), (3, 9), (3, 8), (3, 7), (3, 6), (4, 6)]\n"
     ]
    }
   ],
   "source": [
    "path_dfs = depth_first_search(maze)\n",
    "print(path_dfs)"
   ]
  },
  {
   "cell_type": "code",
   "execution_count": 253,
   "metadata": {},
   "outputs": [
    {
     "data": {
      "text/plain": [
       "<matplotlib.image.AxesImage at 0x14e6ee21340>"
      ]
     },
     "execution_count": 253,
     "metadata": {},
     "output_type": "execute_result"
    },
    {
     "data": {
      "image/png": "[encoded data removed]",
      "text/plain": [
       "<Figure size 640x480 with 1 Axes>"
      ]
     },
     "metadata": {},
     "output_type": "display_data"
    }
   ],
   "source": [
    "maze_with_path_dfs1 = drawPath(imagen_np, path_dfs)\n",
    "plt.imshow(maze_with_path_dfs1)"
   ]
  },
  {
   "cell_type": "markdown",
   "metadata": {},
   "source": [
    "### A*\n",
    "#### Manhattan"
   ]
  },
  {
   "cell_type": "code",
   "execution_count": 254,
   "metadata": {},
   "outputs": [
    {
     "name": "stdout",
     "output_type": "stream",
     "text": [
      "[(49, 48), (49, 47), (49, 46), (49, 45), (49, 44), (49, 43), (49, 42), (49, 41), (49, 40), (49, 39), (49, 38), (49, 37), (49, 36), (49, 35), (49, 34), (49, 33), (49, 32), (49, 31), (49, 30), (49, 29), (49, 28), (49, 27), (49, 26), (49, 25), (49, 24), (49, 23), (49, 22), (49, 21), (49, 20), (49, 19), (49, 18), (49, 17), (49, 16), (49, 15), (49, 14), (49, 13), (49, 12), (50, 12), (50, 11), (51, 11), (51, 10), (52, 10), (52, 9), (53, 9), (53, 8), (54, 8), (54, 7), (54, 6), (54, 5), (54, 4), (54, 3), (53, 3), (52, 3), (51, 3), (50, 3), (50, 2), (49, 2), (48, 2), (47, 2), (46, 2), (45, 2), (44, 2), (43, 2), (42, 2), (41, 2), (40, 2), (39, 2), (38, 2), (37, 2), (36, 2), (35, 2), (34, 2), (33, 2), (32, 2), (31, 2), (30, 2), (29, 2), (29, 3), (28, 3), (28, 4), (27, 4), (26, 4), (25, 4), (24, 4), (23, 4), (22, 4), (21, 4), (20, 4), (19, 4), (18, 4), (17, 4), (16, 4), (15, 4), (14, 4), (13, 4), (12, 4), (11, 4), (10, 4), (9, 4), (8, 4), (7, 4), (6, 4), (5, 4), (4, 4)]\n"
     ]
    }
   ],
   "source": [
    "path_a_star = a_star(maze, maze.heuristic_manhattan)\n",
    "print(path_a_star)"
   ]
  },
  {
   "cell_type": "code",
   "execution_count": 255,
   "metadata": {},
   "outputs": [
    {
     "data": {
      "image/png": "[encoded data removed]",
      "text/plain": [
       "<Figure size 640x480 with 1 Axes>"
      ]
     },
     "metadata": {},
     "output_type": "display_data"
    }
   ],
   "source": [
    "maze_with_path_a_star = drawPath(imagen_np, path_a_star)\n",
    "plt.imshow(maze_with_path_a_star)\n",
    "plt.show()"
   ]
  },
  {
   "cell_type": "markdown",
   "metadata": {},
   "source": [
    "#### Euclidean"
   ]
  },
  {
   "cell_type": "code",
   "execution_count": 256,
   "metadata": {},
   "outputs": [
    {
     "name": "stdout",
     "output_type": "stream",
     "text": [
      "[(49, 48), (49, 47), (49, 46), (49, 45), (49, 44), (49, 43), (49, 42), (49, 41), (49, 40), (49, 39), (49, 38), (49, 37), (49, 36), (49, 35), (49, 34), (49, 33), (49, 32), (49, 31), (49, 30), (49, 29), (49, 28), (49, 27), (49, 26), (49, 25), (49, 24), (49, 23), (49, 22), (49, 21), (49, 20), (49, 19), (49, 18), (49, 17), (49, 16), (49, 15), (49, 14), (49, 13), (49, 12), (50, 12), (50, 11), (51, 11), (51, 10), (52, 10), (52, 9), (53, 9), (53, 8), (54, 8), (54, 7), (54, 6), (54, 5), (54, 4), (54, 3), (53, 3), (52, 3), (51, 3), (50, 3), (50, 2), (49, 2), (48, 2), (47, 2), (46, 2), (45, 2), (44, 2), (43, 2), (42, 2), (41, 2), (40, 2), (39, 2), (38, 2), (37, 2), (36, 2), (35, 2), (34, 2), (33, 2), (32, 2), (31, 2), (30, 2), (29, 2), (28, 2), (27, 2), (26, 2), (25, 2), (24, 2), (23, 2), (22, 2), (21, 2), (20, 2), (19, 2), (18, 2), (17, 2), (16, 2), (15, 2), (14, 2), (13, 2), (12, 2), (11, 2), (10, 2), (9, 2), (8, 2), (7, 2), (6, 2), (5, 2), (5, 3), (5, 4), (4, 4)]\n"
     ]
    }
   ],
   "source": [
    "path_a_star_euclidean = a_star(maze, maze.heuristic_euclidean)\n",
    "print(path_a_star_euclidean)"
   ]
  },
  {
   "cell_type": "code",
   "execution_count": 257,
   "metadata": {},
   "outputs": [
    {
     "data": {
      "image/png": "[encoded data removed]",
      "text/plain": [
       "<Figure size 640x480 with 1 Axes>"
      ]
     },
     "metadata": {},
     "output_type": "display_data"
    }
   ],
   "source": [
    "maze_with_path_a_star_euclidean = drawPath(imagen_np, path_a_star_euclidean)\n",
    "plt.imshow(maze_with_path_a_star_euclidean)\n",
    "plt.show()"
   ]
  },
  {
   "cell_type": "markdown",
   "metadata": {},
   "source": [
    "## Imagen 3"
   ]
  },
  {
   "cell_type": "code",
   "execution_count": 213,
   "metadata": {},
   "outputs": [
    {
     "name": "stdout",
     "output_type": "stream",
     "text": [
      "Alto: 582, Ancho: 582\n",
      "Nuevo alto: 59, Nuevo ancho: 59\n"
     ]
    },
    {
     "data": {
      "image/png": "[encoded data removed]",
      "text/plain": [
       "<Figure size 640x480 with 1 Axes>"
      ]
     },
     "metadata": {},
     "output_type": "display_data"
    }
   ],
   "source": [
    "ruta_imagen3 = 'images/3.bmp'\n",
    "tamano_bloque3 = 10\n",
    "imagen_discreta3 = convertir_a_discreto(ruta_imagen3, tamano_bloque3)\n",
    "plt.imshow(imagen_discreta3)\n",
    "plt.show()"
   ]
  },
  {
   "cell_type": "code",
   "execution_count": 214,
   "metadata": {},
   "outputs": [
    {
     "name": "stdout",
     "output_type": "stream",
     "text": [
      "(59, 59, 3)\n"
     ]
    }
   ],
   "source": [
    "imagen_np3 = np.array(imagen_discreta3)\n",
    "print(imagen_np3.shape)"
   ]
  },
  {
   "cell_type": "code",
   "execution_count": 215,
   "metadata": {},
   "outputs": [
    {
     "name": "stdout",
     "output_type": "stream",
     "text": [
      "SolveMaze(maze=(59, 59, 3), starting_point=(41, 41))\n"
     ]
    }
   ],
   "source": [
    "maze3 = SolveMaze(imagen_np3)\n",
    "print(maze3)"
   ]
  },
  {
   "cell_type": "markdown",
   "metadata": {},
   "source": [
    "### BFS"
   ]
  },
  {
   "cell_type": "code",
   "execution_count": 216,
   "metadata": {},
   "outputs": [
    {
     "name": "stdout",
     "output_type": "stream",
     "text": [
      "[(41, 41), (40, 41), (39, 41), (38, 41), (37, 41), (36, 41), (35, 41), (34, 41), (33, 41), (32, 41), (32, 40), (32, 39), (32, 38), (31, 38), (30, 38), (29, 38), (28, 38), (27, 38), (26, 38), (25, 38), (24, 38), (23, 38), (22, 38), (21, 38), (20, 38), (19, 38), (18, 38), (17, 38), (16, 38), (15, 38), (14, 38), (13, 38), (12, 38), (11, 38), (10, 38), (9, 38), (8, 38), (8, 37), (8, 36), (8, 35), (8, 34), (8, 33), (8, 32), (8, 31), (8, 30), (8, 29), (8, 28), (8, 27), (8, 26), (8, 25), (8, 24)]\n"
     ]
    }
   ],
   "source": [
    "path_bfs3 = breadthFirstSearch(maze3)\n",
    "print(path_bfs3)"
   ]
  },
  {
   "cell_type": "code",
   "execution_count": 217,
   "metadata": {},
   "outputs": [
    {
     "data": {
      "image/png": "[encoded data removed]",
      "text/plain": [
       "<Figure size 640x480 with 1 Axes>"
      ]
     },
     "metadata": {},
     "output_type": "display_data"
    }
   ],
   "source": [
    "maze_with_path_bfs3 = drawPath(imagen_np3, path_bfs3)\n",
    "maze_with_path_bfs3 = Image.fromarray(maze_with_path_bfs3)\n",
    "plt.imshow(maze_with_path_bfs3)\n",
    "plt.show()"
   ]
  },
  {
   "cell_type": "markdown",
   "metadata": {},
   "source": [
    "### DFS"
   ]
  },
  {
   "cell_type": "code",
   "execution_count": 218,
   "metadata": {},
   "outputs": [
    {
     "name": "stdout",
     "output_type": "stream",
     "text": [
      "[(41, 41), (41, 40), (41, 39), (41, 38), (41, 37), (41, 36), (42, 36), (42, 37), (42, 38), (42, 39), (42, 40), (43, 40), (43, 39), (43, 38), (43, 37), (43, 36), (44, 36), (44, 37), (44, 38), (44, 39), (44, 40), (44, 41), (44, 42), (44, 43), (44, 44), (44, 45), (44, 46), (44, 47), (44, 48), (45, 48), (45, 47), (45, 46), (45, 45), (45, 44), (45, 43), (45, 42), (45, 41), (45, 40), (45, 39), (45, 38), (45, 37), (45, 36), (45, 35), (45, 34), (45, 33), (45, 32), (45, 31), (45, 30), (45, 29), (45, 28), (45, 27), (45, 26), (46, 26), (46, 27), (46, 28), (46, 29), (46, 30), (46, 31), (46, 32), (46, 33), (46, 34), (46, 35), (46, 36), (46, 37), (46, 38), (46, 39), (46, 40), (46, 41), (46, 42), (46, 43), (46, 44), (46, 45), (46, 46), (46, 47), (46, 48), (47, 48), (47, 47), (47, 46), (47, 45), (47, 44), (47, 43), (47, 42), (47, 41), (47, 40), (47, 39), (47, 38), (47, 37), (47, 36), (47, 35), (47, 34), (47, 33), (47, 32), (47, 31), (47, 30), (47, 29), (47, 28), (47, 27), (47, 26), (47, 25), (47, 24), (47, 23), (48, 23), (48, 24), (48, 25), (48, 26), (48, 27), (49, 27), (49, 26), (49, 25), (49, 24), (49, 23), (49, 22), (49, 21), (50, 21), (50, 22), (50, 23), (50, 24), (50, 25), (50, 26), (50, 27), (51, 27), (51, 26), (51, 25), (51, 24), (51, 23), (51, 22), (51, 21), (51, 20), (51, 19), (51, 18), (51, 17), (51, 16), (51, 15), (51, 14), (50, 14), (50, 15), (50, 16), (50, 17), (49, 17), (49, 16), (49, 15), (49, 14), (48, 14), (48, 15), (48, 16), (48, 17), (47, 17), (47, 16), (47, 15), (47, 14), (46, 14), (46, 15), (46, 16), (45, 16), (45, 15), (45, 14), (44, 14), (44, 15), (44, 16), (43, 16), (43, 15), (43, 14), (43, 13), (43, 12), (42, 12), (42, 13), (42, 14), (42, 15), (42, 16), (41, 16), (41, 15), (41, 14), (41, 13), (41, 12), (41, 11), (40, 11), (40, 12), (40, 13), (40, 14), (40, 15), (40, 16), (39, 16), (39, 15), (39, 14), (39, 13), (39, 12), (39, 11), (39, 10), (39, 9), (38, 9), (38, 10), (38, 11), (38, 12), (38, 13), (38, 14), (38, 15), (38, 16), (37, 16), (37, 15), (37, 14), (37, 13), (37, 12), (37, 11), (37, 10), (37, 9), (37, 8), (37, 7), (37, 6), (37, 5), (37, 4)]\n"
     ]
    }
   ],
   "source": [
    "path_dfs3 = depth_first_search(maze3)\n",
    "print(path_dfs3)\n"
   ]
  },
  {
   "cell_type": "code",
   "execution_count": 219,
   "metadata": {},
   "outputs": [
    {
     "data": {
      "image/png": "[encoded data removed]",
      "text/plain": [
       "<Figure size 640x480 with 1 Axes>"
      ]
     },
     "metadata": {},
     "output_type": "display_data"
    }
   ],
   "source": [
    "maze_with_path_dfs3 = drawPath(imagen_np3, path_dfs3)\n",
    "maze_with_path_dfs3 = Image.fromarray(maze_with_path_dfs3)\n",
    "plt.imshow(maze_with_path_dfs3)\n",
    "plt.show()"
   ]
  },
  {
   "cell_type": "markdown",
   "metadata": {},
   "source": [
    "### A*\n",
    "#### Manhattan"
   ]
  },
  {
   "cell_type": "code",
   "execution_count": 220,
   "metadata": {},
   "outputs": [
    {
     "name": "stdout",
     "output_type": "stream",
     "text": [
      "[(41, 41), (41, 40), (41, 39), (40, 39), (39, 39), (38, 39), (37, 39), (37, 38), (37, 37), (36, 37), (35, 37), (34, 37), (33, 37), (32, 37), (31, 37), (30, 37), (29, 37), (29, 36), (28, 36), (27, 36), (26, 36), (25, 36), (24, 36), (23, 36), (22, 36), (22, 35), (21, 35), (20, 35), (19, 35), (18, 35), (18, 34), (17, 34), (17, 33), (16, 33), (15, 33), (14, 33), (13, 33), (12, 33), (11, 33), (10, 33), (10, 32), (9, 32), (8, 32), (8, 31), (8, 30), (8, 29), (8, 28), (8, 27), (8, 26), (8, 25), (8, 24), (8, 23), (7, 23), (6, 23), (5, 23), (5, 22)]\n"
     ]
    }
   ],
   "source": [
    "path_a_star3 = a_star(maze3, maze3.heuristic_manhattan)\n",
    "print(path_a_star3)"
   ]
  },
  {
   "cell_type": "code",
   "execution_count": 221,
   "metadata": {},
   "outputs": [
    {
     "data": {
      "image/png": "[encoded data removed]",
      "text/plain": [
       "<Figure size 640x480 with 1 Axes>"
      ]
     },
     "metadata": {},
     "output_type": "display_data"
    }
   ],
   "source": [
    "maze_with_path_a_star3 = drawPath(imagen_np3, path_a_star3)\n",
    "maze_with_path_a_star3 = Image.fromarray(maze_with_path_a_star3)\n",
    "plt.imshow(maze_with_path_a_star3)\n",
    "plt.show()"
   ]
  },
  {
   "cell_type": "markdown",
   "metadata": {},
   "source": [
    "#### Euclidean"
   ]
  },
  {
   "cell_type": "code",
   "execution_count": 231,
   "metadata": {},
   "outputs": [
    {
     "name": "stdout",
     "output_type": "stream",
     "text": [
      "[(41, 41), (40, 41), (39, 41), (38, 41), (37, 41), (36, 41), (35, 41), (34, 41), (33, 41), (33, 40), (33, 39), (33, 38), (32, 38), (32, 37), (31, 37), (30, 37), (29, 37), (28, 37), (27, 37), (26, 37), (25, 37), (24, 37), (23, 37), (22, 37), (21, 37), (20, 37), (19, 37), (19, 36), (19, 35), (18, 35), (18, 34), (17, 34), (17, 33), (16, 33), (15, 33), (15, 32), (14, 32), (13, 32), (12, 32), (11, 32), (10, 32), (9, 32), (9, 31), (8, 31), (8, 30), (8, 29), (8, 28), (8, 27), (8, 26), (8, 25), (8, 24), (7, 24), (6, 24), (6, 23), (5, 23), (5, 22)]\n"
     ]
    }
   ],
   "source": [
    "path_a_star_euclidean3 = a_star(maze3, maze3.heuristic_euclidean)\n",
    "print(path_a_star_euclidean3)"
   ]
  },
  {
   "cell_type": "code",
   "execution_count": 232,
   "metadata": {},
   "outputs": [
    {
     "data": {
      "image/png": "[encoded data removed]",
      "text/plain": [
       "<Figure size 640x480 with 1 Axes>"
      ]
     },
     "metadata": {},
     "output_type": "display_data"
    }
   ],
   "source": [
    "maze_with_path_a_star_euclidean3 = drawPath(imagen_np3, path_a_star_euclidean3)\n",
    "maze_with_path_a_star_euclidean3 = Image.fromarray(maze_with_path_a_star_euclidean3)\n",
    "plt.imshow(maze_with_path_a_star_euclidean3)\n",
    "plt.show()"
   ]
  },
  {
   "cell_type": "markdown",
   "metadata": {},
   "source": [
    "## Imagen 2"
   ]
  },
  {
   "cell_type": "code",
   "execution_count": 222,
   "metadata": {},
   "outputs": [
    {
     "name": "stdout",
     "output_type": "stream",
     "text": [
      "Alto: 582, Ancho: 582\n",
      "Nuevo alto: 59, Nuevo ancho: 59\n"
     ]
    },
    {
     "data": {
      "image/png": "[encoded data removed]",
      "text/plain": [
       "<Figure size 640x480 with 1 Axes>"
      ]
     },
     "metadata": {},
     "output_type": "display_data"
    }
   ],
   "source": [
    "ruta_imagen2 = 'images/2.bmp'\n",
    "tamano_bloque2 = 10\n",
    "imagen_discreta2 = convertir_a_discreto(ruta_imagen2, tamano_bloque2)\n",
    "plt.imshow(imagen_discreta2)\n",
    "plt.show()"
   ]
  },
  {
   "cell_type": "code",
   "execution_count": 223,
   "metadata": {},
   "outputs": [],
   "source": [
    "maze2 = SolveMaze(np.array(imagen_discreta2))\n"
   ]
  },
  {
   "cell_type": "code",
   "execution_count": 224,
   "metadata": {},
   "outputs": [],
   "source": [
    "imagen_np2 = np.array(imagen_discreta2)"
   ]
  },
  {
   "cell_type": "markdown",
   "metadata": {},
   "source": [
    "### BFS"
   ]
  },
  {
   "cell_type": "code",
   "execution_count": 225,
   "metadata": {},
   "outputs": [
    {
     "name": "stdout",
     "output_type": "stream",
     "text": [
      "[(47, 45), (48, 45), (48, 44), (48, 43), (48, 42), (47, 42), (46, 42), (45, 42), (44, 42), (43, 42), (42, 42), (41, 42), (40, 42), (39, 42), (38, 42), (37, 42), (37, 41), (37, 40), (37, 39), (37, 38), (37, 37), (37, 36), (37, 35), (37, 34), (36, 34), (35, 34), (34, 34), (33, 34), (32, 34), (32, 33), (32, 32), (32, 31), (32, 30), (31, 30), (31, 29), (31, 28), (30, 28), (30, 27), (29, 27), (29, 26), (29, 25), (28, 25), (28, 24), (27, 24), (27, 23), (27, 22), (26, 22), (25, 22), (24, 22), (23, 22), (22, 22), (22, 21), (22, 20), (22, 19), (22, 18), (22, 17), (22, 16), (21, 16), (21, 15), (21, 14), (20, 14), (20, 13), (20, 12), (20, 11), (20, 10)]\n"
     ]
    }
   ],
   "source": [
    "path_dfs2 = breadthFirstSearch(maze2)\n",
    "print(path_dfs2)"
   ]
  },
  {
   "cell_type": "code",
   "execution_count": 226,
   "metadata": {},
   "outputs": [
    {
     "data": {
      "image/png": "[encoded data removed]",
      "text/plain": [
       "<Figure size 640x480 with 1 Axes>"
      ]
     },
     "metadata": {},
     "output_type": "display_data"
    }
   ],
   "source": [
    "maze_with_path_dfs2 = drawPath(imagen_np2, path_dfs2)\n",
    "maze_with_path_dfs2 = Image.fromarray(maze_with_path_dfs2)\n",
    "plt.imshow(maze_with_path_dfs2)\n",
    "plt.show()"
   ]
  },
  {
   "cell_type": "markdown",
   "metadata": {},
   "source": [
    "### DFS"
   ]
  },
  {
   "cell_type": "code",
   "execution_count": 227,
   "metadata": {},
   "outputs": [
    {
     "name": "stdout",
     "output_type": "stream",
     "text": [
      "[(47, 45), (48, 45), (48, 44), (48, 43), (48, 42), (48, 41), (48, 40), (48, 39), (48, 38), (48, 37), (48, 36), (48, 35), (48, 34), (48, 33), (48, 32), (48, 31), (48, 30), (48, 29), (48, 28), (47, 28), (47, 29), (47, 30), (47, 31), (47, 32), (47, 33), (47, 34), (47, 35), (47, 36), (47, 37), (47, 38), (47, 39), (47, 40), (47, 41), (47, 42), (46, 42), (46, 41), (46, 40), (45, 40), (45, 41), (45, 42), (44, 42), (44, 43), (43, 43), (43, 44), (43, 45), (42, 45), (42, 44), (42, 43), (42, 42), (42, 41), (42, 40), (41, 40), (41, 41), (41, 42), (41, 43), (41, 44), (41, 45), (40, 45), (40, 44), (40, 43), (40, 42), (40, 41), (40, 40), (39, 40), (39, 41), (39, 42), (39, 43), (39, 44), (39, 45), (38, 45), (38, 44), (38, 43), (38, 42), (38, 41), (38, 40), (38, 39), (38, 38), (38, 37), (38, 36), (38, 35), (38, 34), (38, 33), (38, 32), (38, 31), (38, 30), (38, 29), (38, 28), (38, 27), (37, 27), (37, 28), (37, 29), (37, 30), (37, 31), (37, 32), (37, 33), (37, 34), (36, 34), (36, 33), (36, 32), (36, 31), (36, 30), (36, 29), (36, 28), (36, 27), (35, 27), (35, 28), (35, 29), (35, 30), (35, 31), (35, 32), (35, 33), (35, 34), (34, 34), (34, 33), (34, 32), (34, 31), (34, 30), (34, 29), (34, 28), (34, 27), (33, 27), (33, 28), (33, 29), (33, 30), (33, 31), (33, 32), (33, 33), (33, 34), (32, 34), (32, 35), (31, 35), (30, 35), (30, 36), (29, 36), (29, 37), (28, 37), (28, 38), (27, 38), (27, 39), (26, 39), (26, 38), (25, 38), (25, 39), (25, 40), (25, 41), (25, 42), (25, 43), (25, 44), (25, 45), (25, 46), (25, 47), (25, 48), (25, 49), (25, 50), (25, 51), (25, 52), (25, 53), (25, 54), (25, 55), (25, 56), (25, 57), (24, 57), (24, 56), (24, 55), (24, 54), (24, 53), (24, 52), (24, 51), (24, 50), (24, 49), (24, 48), (24, 47), (24, 46), (24, 45), (24, 44), (24, 43), (24, 42), (24, 41), (24, 40), (24, 39), (24, 38), (24, 37), (24, 36), (23, 36), (23, 37), (23, 38), (23, 39), (23, 40), (23, 41), (23, 42), (23, 43), (23, 44), (23, 45), (23, 46), (23, 47), (23, 48), (23, 49), (23, 50), (23, 51), (23, 52), (23, 53), (23, 54), (23, 55), (23, 56), (23, 57), (22, 57), (22, 56), (22, 55), (22, 54), (22, 53), (22, 52), (22, 51), (22, 50), (22, 49), (22, 48), (22, 47), (22, 46), (22, 45), (22, 44), (22, 43), (22, 42), (22, 41), (22, 40), (22, 39), (22, 38), (22, 37), (22, 36), (22, 35), (22, 34), (22, 33), (21, 33), (21, 34), (21, 35), (21, 36), (21, 37), (21, 38), (21, 39), (21, 40), (21, 41), (21, 42), (21, 43), (21, 44), (21, 45), (21, 46), (21, 47), (21, 48), (21, 49), (21, 50), (21, 51), (21, 52), (21, 53), (21, 54), (21, 55), (21, 56), (21, 57), (20, 57), (20, 56), (20, 55), (20, 54), (20, 53), (20, 52), (20, 51), (20, 50), (20, 49), (20, 48), (20, 47), (20, 46), (20, 45), (20, 44), (19, 44), (19, 45), (19, 46), (19, 47), (19, 48), (19, 49), (19, 50), (19, 51), (19, 52), (19, 53), (19, 54), (19, 55), (19, 56), (19, 57), (18, 57), (18, 56), (18, 55), (18, 54), (18, 53), (18, 52), (18, 51), (18, 50), (18, 49), (18, 48), (18, 47), (18, 46), (18, 45), (18, 44), (17, 44), (17, 45), (17, 46), (17, 47), (17, 48), (16, 48), (16, 47), (16, 46), (16, 45), (16, 44), (16, 43), (15, 43), (15, 44), (15, 45), (15, 46), (15, 47), (15, 48), (14, 48), (14, 47), (14, 46), (14, 45), (14, 44), (14, 43), (13, 43), (13, 44), (13, 45), (13, 46), (13, 47), (13, 48), (12, 48), (12, 47), (12, 46), (12, 45), (12, 44), (12, 43), (11, 43), (11, 44), (11, 45), (11, 46), (11, 47), (11, 48), (10, 48), (10, 49), (10, 50), (10, 51), (10, 52), (10, 53), (10, 54), (10, 55), (10, 56), (10, 57), (9, 57), (9, 56), (9, 55), (9, 54), (9, 53), (9, 52), (9, 51), (9, 50), (8, 50), (8, 49)]\n"
     ]
    }
   ],
   "source": [
    "maze_with_path_dfs2 = depth_first_search(maze2)\n",
    "print(maze_with_path_dfs2)"
   ]
  },
  {
   "cell_type": "code",
   "execution_count": 228,
   "metadata": {},
   "outputs": [
    {
     "data": {
      "image/png": "[encoded data removed]",
      "text/plain": [
       "<Figure size 640x480 with 1 Axes>"
      ]
     },
     "metadata": {},
     "output_type": "display_data"
    }
   ],
   "source": [
    "maze_with_path_dfs2 = drawPath(imagen_np2, maze_with_path_dfs2)\n",
    "maze_with_path_dfs2 = Image.fromarray(maze_with_path_dfs2)\n",
    "plt.imshow(maze_with_path_dfs2)\n",
    "plt.show()"
   ]
  },
  {
   "cell_type": "markdown",
   "metadata": {},
   "source": [
    "### A*\n",
    "#### Manhattan"
   ]
  },
  {
   "cell_type": "code",
   "execution_count": 229,
   "metadata": {},
   "outputs": [
    {
     "name": "stdout",
     "output_type": "stream",
     "text": [
      "[(47, 45), (48, 45), (48, 44), (48, 43), (48, 42), (48, 41), (47, 41), (46, 41), (45, 41), (44, 41), (43, 41), (42, 41), (41, 41), (40, 41), (39, 41), (38, 41), (38, 40), (38, 39), (37, 39), (37, 38), (37, 37), (37, 36), (37, 35), (37, 34), (37, 33), (36, 33), (35, 33), (34, 33), (33, 33), (33, 34), (32, 34), (31, 34), (31, 35), (30, 35), (30, 36), (29, 36), (29, 37), (28, 37), (27, 37), (27, 38), (26, 38), (25, 38), (25, 39), (24, 39), (23, 39), (23, 40), (23, 41), (23, 42), (23, 43), (22, 43), (21, 43), (21, 44), (21, 45), (21, 46), (20, 46), (19, 46), (18, 46), (17, 46), (16, 46), (15, 46), (14, 46), (13, 46), (12, 46), (11, 46), (10, 46), (9, 46), (8, 46), (7, 46), (6, 46), (6, 47)]\n"
     ]
    }
   ],
   "source": [
    "maze_with_path_a_star_2 = a_star(maze2, maze2.heuristic_manhattan)\n",
    "print(maze_with_path_a_star_2)"
   ]
  },
  {
   "cell_type": "code",
   "execution_count": 230,
   "metadata": {},
   "outputs": [
    {
     "data": {
      "text/plain": [
       "<matplotlib.image.AxesImage at 0x14e70553a40>"
      ]
     },
     "execution_count": 230,
     "metadata": {},
     "output_type": "execute_result"
    },
    {
     "data": {
      "image/png": "[encoded data removed]",
      "text/plain": [
       "<Figure size 640x480 with 1 Axes>"
      ]
     },
     "metadata": {},
     "output_type": "display_data"
    }
   ],
   "source": [
    "maze_with_path_a_star_2 = drawPath(imagen_np2, maze_with_path_a_star_2)\n",
    "maze_with_path_a_star_2 = Image.fromarray(maze_with_path_a_star_2)\n",
    "plt.imshow(maze_with_path_a_star_2)"
   ]
  },
  {
   "cell_type": "markdown",
   "metadata": {},
   "source": [
    "#### Euclidean"
   ]
  },
  {
   "cell_type": "code",
   "execution_count": 233,
   "metadata": {},
   "outputs": [
    {
     "name": "stdout",
     "output_type": "stream",
     "text": [
      "[(47, 45), (48, 45), (48, 44), (48, 43), (48, 42), (48, 41), (47, 41), (46, 41), (45, 41), (44, 41), (43, 41), (42, 41), (41, 41), (40, 41), (39, 41), (38, 41), (38, 40), (38, 39), (37, 39), (37, 38), (37, 37), (37, 36), (37, 35), (37, 34), (37, 33), (36, 33), (35, 33), (34, 33), (33, 33), (32, 33), (32, 34), (31, 34), (31, 35), (30, 35), (30, 36), (29, 36), (29, 37), (28, 37), (27, 37), (27, 38), (26, 38), (25, 38), (24, 38), (23, 38), (22, 38), (22, 39), (22, 40), (22, 41), (22, 42), (22, 43), (21, 43), (21, 44), (20, 44), (20, 45), (19, 45), (18, 45), (17, 45), (16, 45), (15, 45), (14, 45), (13, 45), (12, 45), (11, 45), (10, 45), (9, 45), (8, 45), (8, 46), (7, 46), (6, 46), (6, 47)]\n"
     ]
    }
   ],
   "source": [
    "maze_with_path_a_star_euclidean_2 = a_star(maze2, maze2.heuristic_euclidean)\n",
    "print(maze_with_path_a_star_euclidean_2)"
   ]
  },
  {
   "cell_type": "code",
   "execution_count": 234,
   "metadata": {},
   "outputs": [
    {
     "data": {
      "image/png": "[encoded data removed]",
      "text/plain": [
       "<Figure size 640x480 with 1 Axes>"
      ]
     },
     "metadata": {},
     "output_type": "display_data"
    }
   ],
   "source": [
    "maze_with_path_a_star_euclidean_2 = drawPath(imagen_np2, maze_with_path_a_star_euclidean_2)\n",
    "maze_with_path_a_star_euclidean_2 = Image.fromarray(maze_with_path_a_star_euclidean_2)\n",
    "plt.imshow(maze_with_path_a_star_euclidean_2)\n",
    "plt.show()"
   ]
  }
 ],
 "metadata": {
  "kernelspec": {
   "display_name": "Python 3",
   "language": "python",
   "name": "python3"
  },
  "language_info": {
   "codemirror_mode": {
    "name": "ipython",
    "version": 3
   },
   "file_extension": ".py",
   "mimetype": "text/x-python",
   "name": "python",
   "nbconvert_exporter": "python",
   "pygments_lexer": "ipython3",
   "version": "3.12.0"
  },
  "orig_nbformat": 4
 },
 "nbformat": 4,
 "nbformat_minor": 2
}
