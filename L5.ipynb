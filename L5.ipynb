{
 "cells": [
  {
   "cell_type": "markdown",
   "metadata": {},
   "source": [
    "## Inteligencia Artificial\n",
    "## - Laboratorio 5 -\n",
    "Autores:\n",
    "- Mark Albrand \n",
    "- Jimena Hernández"
   ]
  },
  {
   "cell_type": "markdown",
   "metadata": {},
   "source": [
    "### Task 1 - Graph-Search"
   ]
  },
  {
   "cell_type": "code",
   "execution_count": 3,
   "metadata": {},
   "outputs": [],
   "source": [
    "import matplotlib.pylab as plt\n",
    "import numpy as np"
   ]
  },
  {
   "cell_type": "markdown",
   "metadata": {},
   "source": [
    "### Task 1.1 - Discretización de la imagen"
   ]
  },
  {
   "cell_type": "code",
   "execution_count": 23,
   "metadata": {},
   "outputs": [],
   "source": [
    "from PIL import Image\n",
    "import numpy as np\n",
    "def convertir_a_discreto(imagen_path, tamano_bloque):\n",
    "    # Cargar la imagen\n",
    "    imagen = Image.open(imagen_path)\n",
    "    imagen_np = np.array(imagen)\n",
    "    \n",
    "    # Dimensiones de la imagen\n",
    "    alto, ancho, _ = imagen_np.shape\n",
    "    \n",
    "    # Crear una imagen de salida\n",
    "    imagen_salida = np.zeros_like(imagen_np)\n",
    "    \n",
    "    for y in range(0, alto, tamano_bloque):\n",
    "        for x in range(0, ancho, tamano_bloque):\n",
    "            # Extraer el bloque\n",
    "            bloque = imagen_np[y:y+tamano_bloque, x:x+tamano_bloque]\n",
    "            \n",
    "            # Calcular el color promedio del bloque\n",
    "            color_promedio = bloque.mean(axis=(0,1)).astype(int)\n",
    "            #convertir los colores difuminados al color mas predominante\n",
    "            #verde\n",
    "            if color_promedio[1] > color_promedio[0] and color_promedio[1] > color_promedio[2]:\n",
    "                color_promedio[1] = 255\n",
    "                color_promedio[0] = 0\n",
    "                color_promedio[2] = 0 \n",
    "            #rojo\n",
    "            elif color_promedio[0] > color_promedio[1] and color_promedio[0] > color_promedio[2]:\n",
    "                color_promedio[0] = 255\n",
    "                color_promedio[1] = 0\n",
    "                color_promedio[2] = 0\n",
    "\n",
    "            #grises\n",
    "            elif color_promedio[0] == color_promedio[1] and color_promedio[0] == color_promedio[2] and color_promedio[0]< 255:\n",
    "                color_promedio[0] = 0\n",
    "                color_promedio[1] = 0\n",
    "                color_promedio[2] = 0\n",
    "            \n",
    "            # Asignar el color promedio al bloque correspondiente en la imagen de salida\n",
    "            imagen_salida[y:y+tamano_bloque, x:x+tamano_bloque] = color_promedio\n",
    "    \n",
    "    imagen_discreta = Image.fromarray(imagen_salida)\n",
    "    return imagen_discreta\n",
    "\n",
    "ruta_imagen = 'images/1.bmp' \n",
    "tamano_bloque = 14 #bloques de 14x14\n",
    "imagen_discreta = convertir_a_discreto(ruta_imagen, tamano_bloque)\n",
    "imagen_discreta.show() # Mostrar la imagen\n"
   ]
  },
  {
   "cell_type": "markdown",
   "metadata": {},
   "source": [
    "Las áreas blancas representan caminos libres\n",
    "Las áreas negras representan paredes sobre las cuales no se puede pasar\n",
    "Las áreas verdes representan la meta (goalTest positivos) (pueden ser varios)\n",
    "La área roja representa el punto de inicio (solo podrá haber uno)"
   ]
  },
  {
   "cell_type": "code",
   "execution_count": 6,
   "metadata": {},
   "outputs": [
    {
     "name": "stdout",
     "output_type": "stream",
     "text": [
      "<class 'PIL.Image.Image'>\n"
     ]
    }
   ],
   "source": [
    "print(type(imagen_discreta))"
   ]
  },
  {
   "cell_type": "code",
   "execution_count": 22,
   "metadata": {},
   "outputs": [
    {
     "name": "stdout",
     "output_type": "stream",
     "text": [
      "(582, 582, 3)\n",
      "3\n"
     ]
    }
   ],
   "source": [
    "# Pasar la imagen a un arreglo de numpy\n",
    "imagen_np = np.array(imagen_discreta)\n",
    "print(imagen_np.shape)\n",
    "\n",
    "height, width, channels = imagen_np.shape"
   ]
  },
  {
   "cell_type": "markdown",
   "metadata": {},
   "source": [
    "### Task 1.2 - Framework de Problemas"
   ]
  },
  {
   "cell_type": "code",
   "execution_count": null,
   "metadata": {},
   "outputs": [],
   "source": [
    "#Clase actions(s), stepCost(s,a,s’), etcétera)\n",
    "''''\n",
    "Puede entenderse como un framework con los siguientes\n",
    "elementos\n",
    "○ Estado inicial (s_start)\n",
    "○ Función de acción actions(s) → {a 1, a 2,...,a n}\n",
    "○ Función de costo de paso cost(s,a,s’) → R\n",
    "○ Función de resultados results(s,a) → s’\n",
    "○ Función de goalTest(s) → {True, False}\n",
    "● Además, algunas veces es útil agregar\n",
    "○ Función de costo de ruta pathCost(s 1, s 2,...,s n) → R\n",
    "■ s i = results(s i-1,a i )\n",
    "'''\n",
    "class SolveMaze:\n",
    "    maze: np.array\n",
    "    starting_point: tuple[int, int]  # (y, x)\n",
    "    actions = {\n",
    "        \"up\": (-1, 0),\n",
    "        \"down\": (1, 0),\n",
    "        \"left\": (0, -1),\n",
    "        \"right\": (0, 1)\n",
    "    }\n",
    "\n",
    "    def __init__(self, maze: np.array):\n",
    "        if maze.ndim != 3:\n",
    "            raise ValueError(\"Maze debe ser un arreglo tridimensional\")\n",
    "\n",
    "        self.maze = maze\n",
    "        \n"
   ]
  }
 ],
 "metadata": {
  "kernelspec": {
   "display_name": "Python 3",
   "language": "python",
   "name": "python3"
  },
  "language_info": {
   "codemirror_mode": {
    "name": "ipython",
    "version": 3
   },
   "file_extension": ".py",
   "mimetype": "text/x-python",
   "name": "python",
   "nbconvert_exporter": "python",
   "pygments_lexer": "ipython3",
   "version": "3.12.0"
  },
  "orig_nbformat": 4
 },
 "nbformat": 4,
 "nbformat_minor": 2
}
